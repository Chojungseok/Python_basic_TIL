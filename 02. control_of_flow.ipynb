{
 "cells": [
  {
   "cell_type": "markdown",
   "id": "4dbb15fe-848b-4820-bdac-987fa00e85a0",
   "metadata": {},
   "source": [
    "# 제어문"
   ]
  },
  {
   "cell_type": "markdown",
   "id": "751c21b8-9c5a-45a8-9d13-9f2b6851797f",
   "metadata": {},
   "source": [
    "## 조건문(if문)\n",
    "\n",
    "1. if문은 반드시 참/거짓을 판단 할 수 있는 **조건식**과 함께 사용한다.\n",
    "    - `if <조건식> : `\n",
    "2. `<조건식>` 참인경우 : `:` 이후의 문장을 실행\n",
    "3. `<조건식>` 거짓인경우 : `else: ` 이후의 문장을 실행\n",
    "\n",
    "\n",
    "```\n",
    "If <조건식>:\n",
    "    if의 조건식이 참인 경우 실행하는 코드\n",
    "else:\n",
    "    if의 조건식이 거짓인 경우 실행하는 코드\n",
    "```\n"
   ]
  },
  {
   "cell_type": "code",
   "execution_count": 4,
   "id": "0591c58d-be8f-428c-abf8-ac83745b280b",
   "metadata": {},
   "outputs": [
    {
     "name": "stdin",
     "output_type": "stream",
     "text": [
      " 12/25\n"
     ]
    },
    {
     "name": "stdout",
     "output_type": "stream",
     "text": [
      "12/25\n",
      "merry christmas!\n"
     ]
    }
   ],
   "source": [
    "my_string = input()\n",
    "print(my_string)\n",
    "\n",
    "\n",
    "if my_string == '12/25': \n",
    "    print('merry christmas!')\n",
    "else: \n",
    "    print('No!')"
   ]
  },
  {
   "cell_type": "code",
   "execution_count": 8,
   "id": "1c4264e5-9742-43c3-ab15-bfc6c2be15fe",
   "metadata": {},
   "outputs": [
    {
     "name": "stdin",
     "output_type": "stream",
     "text": [
      "숫자를 입력해 주세요 123\n"
     ]
    },
    {
     "name": "stdout",
     "output_type": "stream",
     "text": [
      "odd\n"
     ]
    }
   ],
   "source": [
    "num = input('숫자를 입력해 주세요') # input()이라는 함수는 입력값을 기본적으로 str으로 인식을 한다.\n",
    "\n",
    "if int(num) % 2 == 1: \n",
    "    print('odd')\n",
    "else:\n",
    "    print('even')"
   ]
  },
  {
   "cell_type": "code",
   "execution_count": 11,
   "id": "0f1d5120-af8d-4730-be14-5535218b2972",
   "metadata": {},
   "outputs": [
    {
     "name": "stdin",
     "output_type": "stream",
     "text": [
      "숫자를 입력하세요 2\n"
     ]
    },
    {
     "name": "stdout",
     "output_type": "stream",
     "text": [
      "even\n"
     ]
    }
   ],
   "source": [
    "num = int(input('숫자를 입력하세요'))\n",
    "\n",
    "if num % 2 == 1: \n",
    "    print('odd')\n",
    "else:\n",
    "    print('even')"
   ]
  },
  {
   "cell_type": "code",
   "execution_count": null,
   "id": "c24145bf-6fe8-40f0-91ae-3bf40686830e",
   "metadata": {},
   "outputs": [],
   "source": [
    "num = int(input('숫자를 입력하세요'))\n",
    "\n",
    "if num % 2 == 0: \n",
    "    print('even')\n",
    "else:\n",
    "    print('odd')"
   ]
  },
  {
   "cell_type": "code",
   "execution_count": 12,
   "id": "7abd5dec-1ff3-4dfd-b44c-ada7e6629c61",
   "metadata": {},
   "outputs": [
    {
     "name": "stdin",
     "output_type": "stream",
     "text": [
      "숫자를 입력하세요 2\n"
     ]
    },
    {
     "name": "stdout",
     "output_type": "stream",
     "text": [
      "even\n"
     ]
    }
   ],
   "source": [
    "num = int(input('숫자를 입력하세요'))\n",
    "\n",
    "if num % 2: \n",
    "    print('odd')\n",
    "else:\n",
    "    print('even')"
   ]
  },
  {
   "cell_type": "code",
   "execution_count": 14,
   "id": "0bf316bf-489d-4446-ae10-b34bd5dc8653",
   "metadata": {},
   "outputs": [
    {
     "name": "stdin",
     "output_type": "stream",
     "text": [
      "5의 배수를 판단해 드리겠습니다 10\n"
     ]
    },
    {
     "name": "stdout",
     "output_type": "stream",
     "text": [
      "5의 배수입니다\n"
     ]
    }
   ],
   "source": [
    "num = int(input('5의 배수를 판단해 드리겠습니다'))\n",
    "\n",
    "if num % 5 == 0: \n",
    "    print('5의 배수입니다')\n",
    "else:\n",
    "    print('5의 배수가 아닙니다')"
   ]
  },
  {
   "cell_type": "code",
   "execution_count": 16,
   "id": "c04df5dc-52cf-4bd7-9a3d-e241cb6f15cd",
   "metadata": {},
   "outputs": [
    {
     "name": "stdin",
     "output_type": "stream",
     "text": [
      "5의 배수를 판단해 드리겠습니다 2\n"
     ]
    },
    {
     "name": "stdout",
     "output_type": "stream",
     "text": [
      "5의 배수가 아닙니다\n"
     ]
    }
   ],
   "source": [
    "num = int(input('5의 배수를 판단해 드리겠습니다'))\n",
    "\n",
    "if num % 5: \n",
    "    print('5의 배수가 아닙니다')\n",
    "else:\n",
    "    print('5의 배수입니다')"
   ]
  },
  {
   "cell_type": "markdown",
   "id": "b536bfcf-88b3-4039-b87c-545db4fe7d9b",
   "metadata": {},
   "source": [
    "### elif\n",
    "\n",
    "```\n",
    "if <조건문>:\n",
    "    if문이 참인경우\n",
    "elif <조건식>:\n",
    "    elif문이 참인경우\n",
    "else:\n",
    "    위의 모든 조건이 거짓인경우\n",
    "```"
   ]
  },
  {
   "cell_type": "code",
   "execution_count": 22,
   "id": "b5e10ed2-9cca-431a-9910-ee9a203bdbdc",
   "metadata": {},
   "outputs": [
    {
     "name": "stdin",
     "output_type": "stream",
     "text": [
      "점수를 입력해 주세요 96\n"
     ]
    },
    {
     "name": "stdout",
     "output_type": "stream",
     "text": [
      "참 잘했어요!\n",
      "A\n"
     ]
    }
   ],
   "source": [
    "score = int(input('점수를 입력해 주세요'))\n",
    "\n",
    "if score >= 90:\n",
    "    print('A')\n",
    "    if score >= 95:\n",
    "        print('참 잘했어요!')\n",
    "elif score >= 80:\n",
    "    print('B')\n",
    "elif score >= 70:\n",
    "    print('C')\n",
    "else:\n",
    "    print('F')"
   ]
  },
  {
   "cell_type": "code",
   "execution_count": null,
   "id": "c1baf35b-0b24-4cc3-99da-33d8e82bb54a",
   "metadata": {},
   "outputs": [],
   "source": []
  }
 ],
 "metadata": {
  "kernelspec": {
   "display_name": "Python 3 (ipykernel)",
   "language": "python",
   "name": "python3"
  },
  "language_info": {
   "codemirror_mode": {
    "name": "ipython",
    "version": 3
   },
   "file_extension": ".py",
   "mimetype": "text/x-python",
   "name": "python",
   "nbconvert_exporter": "python",
   "pygments_lexer": "ipython3",
   "version": "3.13.2"
  }
 },
 "nbformat": 4,
 "nbformat_minor": 5
}
