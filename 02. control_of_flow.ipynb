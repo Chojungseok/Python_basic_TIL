{
 "cells": [
  {
   "cell_type": "markdown",
   "id": "4dbb15fe-848b-4820-bdac-987fa00e85a0",
   "metadata": {},
   "source": [
    "# 제어문"
   ]
  },
  {
   "cell_type": "markdown",
   "id": "751c21b8-9c5a-45a8-9d13-9f2b6851797f",
   "metadata": {},
   "source": [
    "## 조건문(if문)\n",
    "\n",
    "1. if문은 반드시 참/거짓을 판단 할 수 있는 **조건식**과 함께 사용한다.\n",
    "    - `if <조건식> : `\n",
    "2. `<조건식>` 참인경우 : `:` 이후의 문장을 실행\n",
    "3. `<조건식>` 거짓인경우 : `else: ` 이후의 문장을 실행\n",
    "\n",
    "\n",
    "```\n",
    "If <조건식>:\n",
    "    if의 조건식이 참인 경우 실행하는 코드\n",
    "else:\n",
    "    if의 조건식이 거짓인 경우 실행하는 코드\n",
    "```\n"
   ]
  },
  {
   "cell_type": "code",
   "execution_count": 4,
   "id": "0591c58d-be8f-428c-abf8-ac83745b280b",
   "metadata": {},
   "outputs": [
    {
     "name": "stdin",
     "output_type": "stream",
     "text": [
      " 12/25\n"
     ]
    },
    {
     "name": "stdout",
     "output_type": "stream",
     "text": [
      "12/25\n",
      "merry christmas!\n"
     ]
    }
   ],
   "source": [
    "my_string = input()\n",
    "print(my_string)\n",
    "\n",
    "\n",
    "if my_string == '12/25': \n",
    "    print('merry christmas!')\n",
    "else: \n",
    "    print('No!')"
   ]
  },
  {
   "cell_type": "code",
   "execution_count": 8,
   "id": "1c4264e5-9742-43c3-ab15-bfc6c2be15fe",
   "metadata": {},
   "outputs": [
    {
     "name": "stdin",
     "output_type": "stream",
     "text": [
      "숫자를 입력해 주세요 123\n"
     ]
    },
    {
     "name": "stdout",
     "output_type": "stream",
     "text": [
      "odd\n"
     ]
    }
   ],
   "source": [
    "num = input('숫자를 입력해 주세요') # input()이라는 함수는 입력값을 기본적으로 str으로 인식을 한다.\n",
    "\n",
    "if int(num) % 2 == 1: \n",
    "    print('odd')\n",
    "else:\n",
    "    print('even')"
   ]
  },
  {
   "cell_type": "code",
   "execution_count": 11,
   "id": "0f1d5120-af8d-4730-be14-5535218b2972",
   "metadata": {},
   "outputs": [
    {
     "name": "stdin",
     "output_type": "stream",
     "text": [
      "숫자를 입력하세요 2\n"
     ]
    },
    {
     "name": "stdout",
     "output_type": "stream",
     "text": [
      "even\n"
     ]
    }
   ],
   "source": [
    "num = int(input('숫자를 입력하세요'))\n",
    "\n",
    "if num % 2 == 1: \n",
    "    print('odd')\n",
    "else:\n",
    "    print('even')"
   ]
  },
  {
   "cell_type": "code",
   "execution_count": null,
   "id": "c24145bf-6fe8-40f0-91ae-3bf40686830e",
   "metadata": {},
   "outputs": [],
   "source": [
    "num = int(input('숫자를 입력하세요'))\n",
    "\n",
    "if num % 2 == 0: \n",
    "    print('even')\n",
    "else:\n",
    "    print('odd')"
   ]
  },
  {
   "cell_type": "code",
   "execution_count": 12,
   "id": "7abd5dec-1ff3-4dfd-b44c-ada7e6629c61",
   "metadata": {},
   "outputs": [
    {
     "name": "stdin",
     "output_type": "stream",
     "text": [
      "숫자를 입력하세요 2\n"
     ]
    },
    {
     "name": "stdout",
     "output_type": "stream",
     "text": [
      "even\n"
     ]
    }
   ],
   "source": [
    "num = int(input('숫자를 입력하세요'))\n",
    "\n",
    "if num % 2: \n",
    "    print('odd')\n",
    "else:\n",
    "    print('even')"
   ]
  },
  {
   "cell_type": "code",
   "execution_count": 14,
   "id": "0bf316bf-489d-4446-ae10-b34bd5dc8653",
   "metadata": {},
   "outputs": [
    {
     "name": "stdin",
     "output_type": "stream",
     "text": [
      "5의 배수를 판단해 드리겠습니다 10\n"
     ]
    },
    {
     "name": "stdout",
     "output_type": "stream",
     "text": [
      "5의 배수입니다\n"
     ]
    }
   ],
   "source": [
    "num = int(input('5의 배수를 판단해 드리겠습니다'))\n",
    "\n",
    "if num % 5 == 0: \n",
    "    print('5의 배수입니다')\n",
    "else:\n",
    "    print('5의 배수가 아닙니다')"
   ]
  },
  {
   "cell_type": "code",
   "execution_count": 16,
   "id": "c04df5dc-52cf-4bd7-9a3d-e241cb6f15cd",
   "metadata": {},
   "outputs": [
    {
     "name": "stdin",
     "output_type": "stream",
     "text": [
      "5의 배수를 판단해 드리겠습니다 2\n"
     ]
    },
    {
     "name": "stdout",
     "output_type": "stream",
     "text": [
      "5의 배수가 아닙니다\n"
     ]
    }
   ],
   "source": [
    "num = int(input('5의 배수를 판단해 드리겠습니다'))\n",
    "\n",
    "if num % 5: \n",
    "    print('5의 배수가 아닙니다')\n",
    "else:\n",
    "    print('5의 배수입니다')"
   ]
  },
  {
   "cell_type": "markdown",
   "id": "b536bfcf-88b3-4039-b87c-545db4fe7d9b",
   "metadata": {},
   "source": [
    "### elif\n",
    "\n",
    "```\n",
    "if <조건문>:\n",
    "    if문이 참인경우\n",
    "elif <조건식>:\n",
    "    elif문이 참인경우\n",
    "else:\n",
    "    위의 모든 조건이 거짓인경우\n",
    "```"
   ]
  },
  {
   "cell_type": "code",
   "execution_count": 22,
   "id": "b5e10ed2-9cca-431a-9910-ee9a203bdbdc",
   "metadata": {},
   "outputs": [
    {
     "name": "stdin",
     "output_type": "stream",
     "text": [
      "점수를 입력해 주세요 96\n"
     ]
    },
    {
     "name": "stdout",
     "output_type": "stream",
     "text": [
      "참 잘했어요!\n",
      "A\n"
     ]
    }
   ],
   "source": [
    "score = int(input('점수를 입력해 주세요'))\n",
    "\n",
    "if score >= 90:\n",
    "    print('A')\n",
    "    if score >= 95:\n",
    "        print('참 잘했어요!')\n",
    "elif score >= 80:\n",
    "    print('B')\n",
    "elif score >= 70:\n",
    "    print('C')\n",
    "else:\n",
    "    print('F')"
   ]
  },
  {
   "cell_type": "markdown",
   "id": "334e97a0-8ed1-47a7-a2dc-e33f47a7db40",
   "metadata": {},
   "source": [
    "### 조건표현식\n",
    "- `true_value if <조건식> else false_value`"
   ]
  },
  {
   "cell_type": "code",
   "execution_count": 25,
   "id": "2288d1d9-19eb-45a7-a171-efb34a9ea980",
   "metadata": {},
   "outputs": [
    {
     "name": "stdout",
     "output_type": "stream",
     "text": [
      "100\n"
     ]
    }
   ],
   "source": [
    "a = 0\n",
    "\n",
    "if True:\n",
    "    a = 100\n",
    "else:\n",
    "    a = -100\n",
    "\n",
    "print(a)"
   ]
  },
  {
   "cell_type": "code",
   "execution_count": 27,
   "id": "e5de30d1-c6dc-4958-8d03-26fc0abf3c6f",
   "metadata": {},
   "outputs": [
    {
     "name": "stdout",
     "output_type": "stream",
     "text": [
      "100\n"
     ]
    }
   ],
   "source": [
    "a = 100 if True else -100\n",
    "print(a)"
   ]
  },
  {
   "cell_type": "code",
   "execution_count": 29,
   "id": "ebed0f03-a45f-4d08-b42f-32cf1d45d217",
   "metadata": {},
   "outputs": [
    {
     "name": "stdin",
     "output_type": "stream",
     "text": [
      " 1\n"
     ]
    },
    {
     "name": "stdout",
     "output_type": "stream",
     "text": [
      "1\n"
     ]
    }
   ],
   "source": [
    "num = int(input())\n",
    "\n",
    "if num >= 0:\n",
    "    result = num\n",
    "else:\n",
    "    result = 0\n",
    "\n",
    "print(result)"
   ]
  },
  {
   "cell_type": "code",
   "execution_count": 32,
   "id": "d7d90e5d-c927-4824-9ca0-4ffc40b744ae",
   "metadata": {},
   "outputs": [
    {
     "name": "stdin",
     "output_type": "stream",
     "text": [
      " 10\n"
     ]
    },
    {
     "name": "stdout",
     "output_type": "stream",
     "text": [
      "10\n"
     ]
    }
   ],
   "source": [
    "num = int(input())\n",
    "\n",
    "result = num if num >= 0 else 0\n",
    "print(result)"
   ]
  },
  {
   "cell_type": "code",
   "execution_count": 50,
   "id": "2bc2224f-66f1-4440-b7e7-c62b671140f0",
   "metadata": {},
   "outputs": [
    {
     "name": "stdout",
     "output_type": "stream",
     "text": [
      "홀수\n"
     ]
    }
   ],
   "source": [
    "num = 9\n",
    "result = '홀수' if num % 2 else '짝수'\n",
    "print(result)"
   ]
  },
  {
   "cell_type": "code",
   "execution_count": 53,
   "id": "222b7285-82a9-4482-865a-df156a615acd",
   "metadata": {},
   "outputs": [
    {
     "name": "stdout",
     "output_type": "stream",
     "text": [
      "짝수\n"
     ]
    }
   ],
   "source": [
    "num = 10\n",
    "\n",
    "if num % 2:\n",
    "    result = '홀수'\n",
    "else:\n",
    "    result = '짝수'\n",
    "\n",
    "print(result)"
   ]
  },
  {
   "cell_type": "markdown",
   "id": "757b0514-f414-4e25-be36-1d9948030f52",
   "metadata": {},
   "source": [
    "## 반복문"
   ]
  },
  {
   "cell_type": "markdown",
   "id": "8150c7e6-3881-454a-9d98-2782bbaf8dd2",
   "metadata": {},
   "source": [
    "### while\n",
    "\n",
    "```\n",
    "while <조건식>:\n",
    "    실행할 코드\n",
    "```"
   ]
  },
  {
   "cell_type": "code",
   "execution_count": 56,
   "id": "eee61aca-7797-4cd3-b5df-0495d312f5df",
   "metadata": {},
   "outputs": [
    {
     "name": "stdout",
     "output_type": "stream",
     "text": [
      "0\n",
      "1\n",
      "2\n",
      "3\n",
      "4\n"
     ]
    }
   ],
   "source": [
    "a = 0\n",
    "while a < 5:\n",
    "    print(a)\n",
    "    a += 1\n",
    "    #a = a + 1"
   ]
  },
  {
   "cell_type": "markdown",
   "id": "302c9003-b183-4e3f-b360-bd8f6a03a014",
   "metadata": {},
   "source": [
    "### for문\n",
    "\n",
    "- 정해진 범위 내의 반복\n",
    "  \n",
    "```\n",
    "for var_name in sequence:\n",
    "    code\n",
    "```"
   ]
  },
  {
   "cell_type": "code",
   "execution_count": 57,
   "id": "7163ba6a-a2b2-443a-8833-fea6e997e415",
   "metadata": {},
   "outputs": [
    {
     "name": "stdout",
     "output_type": "stream",
     "text": [
      "1\n",
      "2\n",
      "3\n",
      "4\n",
      "5\n"
     ]
    }
   ],
   "source": [
    "numbers = [1, 2, 3, 4, 5]\n",
    "\n",
    "for number in numbers:\n",
    "    print(number)"
   ]
  },
  {
   "cell_type": "code",
   "execution_count": 58,
   "id": "8dda2a4f-8271-4618-8b2e-e03582243f18",
   "metadata": {},
   "outputs": [
    {
     "name": "stdout",
     "output_type": "stream",
     "text": [
      "a\n",
      "p\n",
      "p\n",
      "l\n",
      "e\n"
     ]
    }
   ],
   "source": [
    "word = 'apple'\n",
    "\n",
    "for char in word:\n",
    "    print( char)"
   ]
  },
  {
   "cell_type": "code",
   "execution_count": 60,
   "id": "856c2435-fce6-49bf-b5b4-3eead0a7ce57",
   "metadata": {},
   "outputs": [
    {
     "name": "stdout",
     "output_type": "stream",
     "text": [
      "0\n",
      "1\n",
      "2\n",
      "3\n",
      "4\n"
     ]
    }
   ],
   "source": [
    "for i in range(5):\n",
    "    print(i)"
   ]
  },
  {
   "cell_type": "code",
   "execution_count": 67,
   "id": "ac16e2b9-6a29-4858-adeb-df6dbd9d7642",
   "metadata": {},
   "outputs": [
    {
     "name": "stdout",
     "output_type": "stream",
     "text": [
      "5\n",
      "10\n",
      "15\n",
      "20\n",
      "25\n",
      "30\n",
      "35\n",
      "40\n",
      "45\n",
      "50\n"
     ]
    }
   ],
   "source": [
    "numbers = range(1,51)\n",
    "\n",
    "for number in numbers:\n",
    "    if number % 5 == 0:\n",
    "        print(number)"
   ]
  },
  {
   "cell_type": "code",
   "execution_count": 73,
   "id": "b6155099-6dea-4160-b6df-a7c9fa7536d1",
   "metadata": {},
   "outputs": [
    {
     "name": "stdout",
     "output_type": "stream",
     "text": [
      "0\n",
      "서울\n",
      "1\n",
      "대전\n",
      "2\n",
      "부산\n"
     ]
    }
   ],
   "source": [
    "locations = ['서울', '대전', '부산']\n",
    "for (index, location) in enumerate(locations):\n",
    "    print(index)\n",
    "    print(location)"
   ]
  },
  {
   "cell_type": "markdown",
   "id": "88c79e77-2778-4fd4-acba-23f870f2ccfc",
   "metadata": {},
   "source": [
    "### dictionary 반복\n",
    "\n",
    "1. for key in dict:\n",
    "2. for key in dict.keys():\n",
    "3. for value in dict.values():\n",
    "4. for key, value in dict.items():"
   ]
  },
  {
   "cell_type": "code",
   "execution_count": 74,
   "id": "274ae371-e4c7-44ed-89a3-24201cb1440c",
   "metadata": {},
   "outputs": [],
   "source": [
    "info = {\n",
    "    'name': '홍길동',\n",
    "    'location': '서울',\n",
    "    'phone_number': '010-1234-5678',\n",
    "    'age': '26'\n",
    "}"
   ]
  },
  {
   "cell_type": "code",
   "execution_count": 75,
   "id": "e44a183c-3626-4038-8298-76b7f9a083d4",
   "metadata": {},
   "outputs": [
    {
     "name": "stdout",
     "output_type": "stream",
     "text": [
      "name\n",
      "location\n",
      "phone_number\n",
      "age\n"
     ]
    }
   ],
   "source": [
    "for k in info:\n",
    "    print(k)"
   ]
  },
  {
   "cell_type": "code",
   "execution_count": 78,
   "id": "6bb5f7a7-ce4b-4c3a-bd54-c2274be9d56c",
   "metadata": {},
   "outputs": [
    {
     "name": "stdout",
     "output_type": "stream",
     "text": [
      "name\n",
      "홍길동\n",
      "location\n",
      "서울\n",
      "phone_number\n",
      "010-1234-5678\n",
      "age\n",
      "26\n"
     ]
    }
   ],
   "source": [
    "for k in info.keys():\n",
    "    print(k)\n",
    "    print(info[k])"
   ]
  },
  {
   "cell_type": "code",
   "execution_count": 80,
   "id": "d483d6a1-0bb5-4b5f-9721-00e211dd9fed",
   "metadata": {},
   "outputs": [
    {
     "name": "stdout",
     "output_type": "stream",
     "text": [
      "홍길동\n",
      "서울\n",
      "010-1234-5678\n",
      "26\n"
     ]
    }
   ],
   "source": [
    "for v in info.values():\n",
    "    print(v)"
   ]
  },
  {
   "cell_type": "code",
   "execution_count": 82,
   "id": "5720f578-ec72-410d-abf2-38704fc150fc",
   "metadata": {},
   "outputs": [
    {
     "name": "stdout",
     "output_type": "stream",
     "text": [
      "name 홍길동\n",
      "location 서울\n",
      "phone_number 010-1234-5678\n",
      "age 26\n"
     ]
    }
   ],
   "source": [
    "for key, value in info.items():\n",
    "    print(key, value)"
   ]
  },
  {
   "cell_type": "code",
   "execution_count": 83,
   "id": "f6333959-d1ba-4a9b-b976-757928f2f418",
   "metadata": {},
   "outputs": [],
   "source": [
    "blood_type = {\n",
    "    'A': 15,\n",
    "    'B': 8,\n",
    "    'O': 5,\n",
    "    'AB': 4\n",
    "}"
   ]
  },
  {
   "cell_type": "code",
   "execution_count": 87,
   "id": "5dec6f3f-f140-49f2-bd27-3b5e2d8228c1",
   "metadata": {},
   "outputs": [
    {
     "name": "stdout",
     "output_type": "stream",
     "text": [
      "혈액형에는 A형이 있습니다\n",
      "혈액형에는 B형이 있습니다\n",
      "혈액형에는 O형이 있습니다\n",
      "혈액형에는 AB형이 있습니다\n"
     ]
    }
   ],
   "source": [
    "for i in blood_type:\n",
    "    print(F'혈액형에는 {i}형이 있습니다')"
   ]
  },
  {
   "cell_type": "code",
   "execution_count": 91,
   "id": "bcc12cd6-c312-43f6-975b-aa757bf07145",
   "metadata": {},
   "outputs": [
    {
     "name": "stdout",
     "output_type": "stream",
     "text": [
      "32\n"
     ]
    }
   ],
   "source": [
    "# 총 학생은 몇명 입니까?\n",
    "student = 0\n",
    "\n",
    "for number in blood_type.values():\n",
    "    student += number\n",
    "print(student)"
   ]
  },
  {
   "cell_type": "code",
   "execution_count": 93,
   "id": "34751b6f-3831-4c98-a8c8-71876be6f0cb",
   "metadata": {},
   "outputs": [
    {
     "name": "stdout",
     "output_type": "stream",
     "text": [
      "A형은 15명 입니다.\n",
      "B형은 8명 입니다.\n",
      "O형은 5명 입니다.\n",
      "AB형은 4명 입니다.\n"
     ]
    }
   ],
   "source": [
    "for k, v in blood_type.items():\n",
    "    print(f'{k}형은 {v}명 입니다.')"
   ]
  },
  {
   "cell_type": "markdown",
   "id": "80f078a9-2bf8-483c-8051-44e3c8012a49",
   "metadata": {},
   "source": [
    "### break\n",
    "- 반복문을 종료 시키는 키워드"
   ]
  },
  {
   "cell_type": "code",
   "execution_count": 98,
   "id": "afe59923-48ec-4460-954b-ad63dddf512d",
   "metadata": {},
   "outputs": [
    {
     "name": "stdout",
     "output_type": "stream",
     "text": [
      "여기는 for 문 0\n",
      "여기는 for 문 1\n",
      "여기는 for 문 2\n",
      "여기는 for 문 3\n",
      "여기는 for 문 4\n",
      "여기는 for 문 5\n",
      "여기는 for 문 6\n",
      "여기는 for 문 7\n",
      "여기는 for 문 8\n",
      "여기는 for 문 9\n",
      "여기는 for 문 10\n",
      "여기는 for 문 11\n",
      "여기는 break\n"
     ]
    }
   ],
   "source": [
    "for i in range(100): \n",
    "    print('여기는 for 문', i)\n",
    "    if i > 10:\n",
    "        print('여기는 break')\n",
    "        break"
   ]
  },
  {
   "cell_type": "code",
   "execution_count": 101,
   "id": "57dd9662-06e9-4288-8c12-758e29936e20",
   "metadata": {},
   "outputs": [
    {
     "name": "stdin",
     "output_type": "stream",
     "text": [
      " 쌀\n"
     ]
    },
    {
     "name": "stdout",
     "output_type": "stream",
     "text": [
      "잡았다!\n"
     ]
    }
   ],
   "source": [
    "while True:\n",
    "    rice = input()\n",
    "    if rice == '쌀':\n",
    "        print('잡았다!')\n",
    "        break"
   ]
  },
  {
   "cell_type": "markdown",
   "id": "3314eb5f-62a2-4dce-b607-bcd3327298f8",
   "metadata": {},
   "source": [
    "### continue\n",
    "- continue 이후의 코드를 실행하지 않고 다음 반복을 진행"
   ]
  },
  {
   "cell_type": "code",
   "execution_count": 104,
   "id": "d5267868-ba2a-4742-8325-ecdac3527155",
   "metadata": {},
   "outputs": [
    {
     "name": "stdout",
     "output_type": "stream",
     "text": [
      "0\n",
      "2\n",
      "4\n",
      "6\n",
      "8\n",
      "10\n",
      "12\n",
      "14\n",
      "16\n",
      "18\n"
     ]
    }
   ],
   "source": [
    "for i in range(20):\n",
    "    if i % 2 == 1:\n",
    "        continue\n",
    "    print(i)"
   ]
  },
  {
   "cell_type": "code",
   "execution_count": 107,
   "id": "8159e1bc-c36e-47e9-b204-d105d4ffdb9b",
   "metadata": {},
   "outputs": [
    {
     "name": "stdout",
     "output_type": "stream",
     "text": [
      "20살은 성인입니다.\n",
      "21살은 성인입니다.\n",
      "22살은 성인입니다.\n",
      "23살은 성인입니다.\n",
      "24살은 성인입니다.\n"
     ]
    }
   ],
   "source": [
    "ages = [10, 11, 12, 13, 14, 15, 16, 20, 21, 22, 23, 24]\n",
    "\n",
    "for age in ages:\n",
    "    if age < 20:\n",
    "        continue\n",
    "    print(f'{age}살은 성인입니다.')\n",
    "    "
   ]
  },
  {
   "cell_type": "markdown",
   "id": "d683de84-a939-4334-9727-f559c48b60f2",
   "metadata": {},
   "source": [
    "### else\n",
    "- else 문은 끝까지 반복된 경우 실행 됩니다.\n",
    "**break를 만나지 않은 경우**"
   ]
  },
  {
   "cell_type": "code",
   "execution_count": 112,
   "id": "27d7fe07-3895-4a9f-a6b6-9c8fe85e4934",
   "metadata": {},
   "outputs": [
    {
     "name": "stdout",
     "output_type": "stream",
     "text": [
      "0\n",
      "1\n",
      "2\n",
      "3\n",
      "4\n",
      "5\n"
     ]
    }
   ],
   "source": [
    "for i in range(10):\n",
    "    if i > 5:\n",
    "        break\n",
    "    print(i)\n",
    "else:\n",
    "    print('모두 완료!') # 반복문이 중간에 멈추지 않고 모두 돌았을 경우 else문 실행"
   ]
  },
  {
   "cell_type": "code",
   "execution_count": null,
   "id": "cb4bdcb5-3296-4a35-ad8f-4ffc4b5ebcd1",
   "metadata": {},
   "outputs": [],
   "source": []
  }
 ],
 "metadata": {
  "kernelspec": {
   "display_name": "Python 3 (ipykernel)",
   "language": "python",
   "name": "python3"
  },
  "language_info": {
   "codemirror_mode": {
    "name": "ipython",
    "version": 3
   },
   "file_extension": ".py",
   "mimetype": "text/x-python",
   "name": "python",
   "nbconvert_exporter": "python",
   "pygments_lexer": "ipython3",
   "version": "3.13.2"
  }
 },
 "nbformat": 4,
 "nbformat_minor": 5
}
