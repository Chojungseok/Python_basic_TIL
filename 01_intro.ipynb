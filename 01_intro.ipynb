{
 "cells": [
  {
   "cell_type": "markdown",
   "id": "96076e6e-d4b0-468a-9c04-820eba57dd8f",
   "metadata": {},
   "source": [
    "# 01_Intro\n",
    "\n",
    "## shortcut\n",
    "\n",
    "- cntrl + enter : 현재 셀 실행\n",
    "- shift + enter : 현재 셀 실행 + 아래로 이동(없는 경우 새로 추가\n",
    "- alt + enter : 현재 셀 실행 + 아래에 새로운 셀 추가"
   ]
  },
  {
   "cell_type": "markdown",
   "id": "0e89e8c1-fc14-476a-9479-2764449afc5c",
   "metadata": {},
   "source": [
    "## 주의사항\n",
    "\n",
    "1. Apple과 apple은 **다르다**\n",
    "2. git add. / git add . **띄어쓰기**\n",
    "3. message / massage **오타주의**"
   ]
  },
  {
   "cell_type": "markdown",
   "id": "31cb6aa3-e3ab-4071-9eca-80b0f7eea37f",
   "metadata": {},
   "source": [
    "## 01. 변수\n",
    "\n",
    "```\n",
    "var_name = value\n",
    "```\n",
    "\n",
    "- 변수 이름은어떤 이름이든 사용가능\n",
    "- 다만 영어, 숫자, _를 이용해서 선언\n",
    "- 키워드는 불가능"
   ]
  },
  {
   "cell_type": "code",
   "execution_count": null,
   "id": "8208eaeb-9d15-48cf-ba1b-968cb47e5fdf",
   "metadata": {},
   "outputs": [],
   "source": [
    "a = 100"
   ]
  },
  {
   "cell_type": "code",
   "execution_count": null,
   "id": "c65d78c2-080b-4458-9b82-0c4df1606a4c",
   "metadata": {},
   "outputs": [],
   "source": [
    "a"
   ]
  },
  {
   "cell_type": "code",
   "execution_count": null,
   "id": "ecf46712-37b9-47e5-b13b-b39f35bbfc26",
   "metadata": {},
   "outputs": [],
   "source": [
    "import keyword\n",
    "\n",
    "keyword.kwlist"
   ]
  },
  {
   "cell_type": "markdown",
   "id": "17a024c6-6ee2-480a-a5ae-04cbf347ba19",
   "metadata": {},
   "source": [
    "### 1.1 number"
   ]
  },
  {
   "cell_type": "code",
   "execution_count": null,
   "id": "d946000c-1f2f-4da9-b074-6f51aded9231",
   "metadata": {},
   "outputs": [],
   "source": [
    "a = 10000"
   ]
  },
  {
   "cell_type": "code",
   "execution_count": null,
   "id": "8c63b5f5-71ff-4a05-81d9-e1e2908db24a",
   "metadata": {},
   "outputs": [],
   "source": [
    "a"
   ]
  },
  {
   "cell_type": "code",
   "execution_count": null,
   "id": "79a6ff59-c37f-4f34-bfe8-0a862887d3ce",
   "metadata": {},
   "outputs": [],
   "source": [
    "type(a)"
   ]
  },
  {
   "cell_type": "code",
   "execution_count": null,
   "id": "ec95da3f-33c4-4e86-bc51-cc75c624dbdc",
   "metadata": {},
   "outputs": [],
   "source": [
    "b = 1.2"
   ]
  },
  {
   "cell_type": "code",
   "execution_count": null,
   "id": "56b90c3c-a0fd-4d4d-a4a2-40382153ab7b",
   "metadata": {},
   "outputs": [],
   "source": [
    "b"
   ]
  },
  {
   "cell_type": "code",
   "execution_count": null,
   "id": "961e4cc5-04a3-412d-a044-36876b2a0d81",
   "metadata": {},
   "outputs": [],
   "source": [
    "type(b)"
   ]
  },
  {
   "cell_type": "code",
   "execution_count": null,
   "id": "919c6e7b-369a-4363-8b67-f47912708815",
   "metadata": {},
   "outputs": [],
   "source": [
    "c = 1 + 1j"
   ]
  },
  {
   "cell_type": "code",
   "execution_count": null,
   "id": "10980cd7-08a2-4771-bbdb-a7156b1c51f4",
   "metadata": {},
   "outputs": [],
   "source": [
    "c"
   ]
  },
  {
   "cell_type": "code",
   "execution_count": null,
   "id": "86950058-bd84-45a0-9885-d1b6c51ff8eb",
   "metadata": {},
   "outputs": [],
   "source": [
    "type(c)"
   ]
  },
  {
   "cell_type": "markdown",
   "id": "a0cf4f84-39a7-4797-b25b-9da72440bee6",
   "metadata": {},
   "source": [
    "### 1.2 boolean"
   ]
  },
  {
   "cell_type": "code",
   "execution_count": null,
   "id": "9d1f5803-ebd4-4af9-9297-2e4161f007a3",
   "metadata": {},
   "outputs": [],
   "source": [
    "a = True"
   ]
  },
  {
   "cell_type": "code",
   "execution_count": null,
   "id": "d46b1010-2a19-4472-a642-fb0c93dc26fa",
   "metadata": {},
   "outputs": [],
   "source": [
    "a"
   ]
  },
  {
   "cell_type": "code",
   "execution_count": null,
   "id": "f4ae858c-5343-4ca4-a26e-41a3805bc9b0",
   "metadata": {},
   "outputs": [],
   "source": [
    "type(a)"
   ]
  },
  {
   "cell_type": "code",
   "execution_count": null,
   "id": "7042e422-0503-4edd-9f59-b31081a6d2af",
   "metadata": {},
   "outputs": [],
   "source": [
    "b = False"
   ]
  },
  {
   "cell_type": "code",
   "execution_count": null,
   "id": "81cf31f1-3e03-4e54-946c-15b29a1dfe1b",
   "metadata": {},
   "outputs": [],
   "source": [
    "b"
   ]
  },
  {
   "cell_type": "code",
   "execution_count": null,
   "id": "3bcd7735-84c5-4a14-b5b3-913e6ac929d3",
   "metadata": {},
   "outputs": [],
   "source": [
    "type(b)"
   ]
  },
  {
   "cell_type": "markdown",
   "id": "c294c862-533e-43f1-8961-3a54d8d07e9a",
   "metadata": {},
   "source": [
    "### 1.3 string\n",
    "\n",
    "- `'`, `\"`를 이용하여 표현"
   ]
  },
  {
   "cell_type": "code",
   "execution_count": null,
   "id": "b230fd88-f779-4430-8598-a4cc4554a31e",
   "metadata": {},
   "outputs": [],
   "source": [
    "a = 'hello!'"
   ]
  },
  {
   "cell_type": "code",
   "execution_count": null,
   "id": "269a171b-2916-4f77-8b63-fce75774b1fb",
   "metadata": {},
   "outputs": [],
   "source": [
    "b = \"hi\""
   ]
  },
  {
   "cell_type": "code",
   "execution_count": null,
   "id": "c557be56-256e-441c-a293-bcb2ab2efef8",
   "metadata": {},
   "outputs": [],
   "source": [
    "a"
   ]
  },
  {
   "cell_type": "code",
   "execution_count": null,
   "id": "65926271-47fc-40bb-968f-a4a865598ada",
   "metadata": {},
   "outputs": [],
   "source": [
    "b"
   ]
  },
  {
   "cell_type": "code",
   "execution_count": null,
   "id": "906c1d55-9b6e-4bba-be9e-52c540898a43",
   "metadata": {},
   "outputs": [],
   "source": [
    "print('hello my name is \"jungseok\"')"
   ]
  },
  {
   "cell_type": "code",
   "execution_count": null,
   "id": "0e13d42d-c061-4dfe-80fc-c1bac02456b5",
   "metadata": {},
   "outputs": [],
   "source": [
    "print('hello my name is \\'jungseok\\'')"
   ]
  },
  {
   "cell_type": "code",
   "execution_count": null,
   "id": "9cfcdc60-ceab-49dc-9ea7-5281282f18a9",
   "metadata": {},
   "outputs": [],
   "source": [
    "a = '''\n",
    "hello\n",
    "world\n",
    "hi\n",
    "'''"
   ]
  },
  {
   "cell_type": "code",
   "execution_count": null,
   "id": "6f6e8426-dde1-4ba4-9084-a95123073d97",
   "metadata": {},
   "outputs": [],
   "source": [
    "a"
   ]
  },
  {
   "cell_type": "code",
   "execution_count": null,
   "id": "8bae5519-5a19-49e0-aa97-3f91e712aa51",
   "metadata": {},
   "outputs": [],
   "source": [
    "a = 10\n",
    "b = '홍길동은 살입니다.'"
   ]
  },
  {
   "cell_type": "markdown",
   "id": "10f5a2ba-df38-4a63-a72a-7da340323f5a",
   "metadata": {},
   "source": [
    "### string interpolation\n",
    "\n",
    "- %-formatting\n",
    "- str.format()\n",
    "- f-string"
   ]
  },
  {
   "cell_type": "code",
   "execution_count": null,
   "id": "9d24b6ca-a983-445a-a7fe-0c4ba455484c",
   "metadata": {},
   "outputs": [],
   "source": [
    "age = 10"
   ]
  },
  {
   "cell_type": "code",
   "execution_count": null,
   "id": "cdf5cef7-062f-477b-a009-c1a374755edc",
   "metadata": {},
   "outputs": [],
   "source": [
    "# %-formatting\n",
    "\n",
    "print('홍길동은 %s살입니다.' % age)"
   ]
  },
  {
   "cell_type": "code",
   "execution_count": null,
   "id": "d99d6f05-7d23-4ba2-a1f8-4be9dea4ea2f",
   "metadata": {},
   "outputs": [],
   "source": [
    "# str.format()\n",
    "\n",
    "print('홍길동은 {}살입니다.'.format(age))"
   ]
  },
  {
   "cell_type": "code",
   "execution_count": null,
   "id": "276d5a0e-d77d-4b17-a537-427bc914b568",
   "metadata": {},
   "outputs": [],
   "source": [
    "# f-string\n",
    "\n",
    "print(f'홍길동은 {age}살입니다')"
   ]
  },
  {
   "cell_type": "markdown",
   "id": "3e205e7d-ffee-4897-a639-17c5cdc9c0cf",
   "metadata": {},
   "source": [
    "## 02. 연산자\n",
    "\n",
    "### 2.1 산술연산자"
   ]
  },
  {
   "cell_type": "code",
   "execution_count": null,
   "id": "e3ee2393-8583-4a5e-97d9-ae13850d20ff",
   "metadata": {},
   "outputs": [],
   "source": [
    "a = 5\n",
    "b = 2"
   ]
  },
  {
   "cell_type": "code",
   "execution_count": null,
   "id": "c7c840a1-1c43-4c77-b9f6-4a2396ef4783",
   "metadata": {},
   "outputs": [],
   "source": [
    "print(a + b)\n",
    "print(a - b)\n",
    "print(a * b)\n",
    "print(a / b)"
   ]
  },
  {
   "cell_type": "code",
   "execution_count": null,
   "id": "4d04915f-ee7f-46f0-917c-bcb8d02c4c40",
   "metadata": {},
   "outputs": [],
   "source": [
    "print(a ** b) #2의 5승\n",
    "print(a // b) #a를 b로 나눈 몫\n",
    "print(a % b) #a를 b로 나눈 나머지"
   ]
  },
  {
   "cell_type": "code",
   "execution_count": null,
   "id": "384d13e4-5971-4632-aea7-e33465cad224",
   "metadata": {},
   "outputs": [],
   "source": [
    "result = divmod(a, b) #divmod란? a를 b로 나눈 몫을 하나 만들고 나머지를 만든다\n",
    "\n",
    "print(result)"
   ]
  },
  {
   "cell_type": "markdown",
   "id": "b819a21e-65d9-4c7b-a9b6-f13d20aff390",
   "metadata": {},
   "source": [
    "### 2.2 비교 연산자"
   ]
  },
  {
   "cell_type": "code",
   "execution_count": null,
   "id": "fb17e3aa-5890-4091-bc9a-0579f8e4fa0c",
   "metadata": {},
   "outputs": [],
   "source": [
    "a = 5\n",
    "b = 10"
   ]
  },
  {
   "cell_type": "code",
   "execution_count": null,
   "id": "9748d8ae-6e3f-4015-99ce-bbe74f2a556a",
   "metadata": {},
   "outputs": [],
   "source": [
    "print(a > b)\n",
    "print(a < b)\n",
    "print(a >= b)\n",
    "print(a <= b)"
   ]
  },
  {
   "cell_type": "code",
   "execution_count": null,
   "id": "8a977bfa-9a2b-4e0f-b0b2-ea499265e005",
   "metadata": {},
   "outputs": [],
   "source": [
    "print(a == b)\n",
    "print(a != b)"
   ]
  },
  {
   "cell_type": "code",
   "execution_count": null,
   "id": "638a8d7c-6d96-4e61-bb60-40f0fd8b6265",
   "metadata": {},
   "outputs": [],
   "source": [
    "print('hi' == 'hi')\n",
    "print('hi' == 'Hi') # 대소문자를 구분"
   ]
  },
  {
   "cell_type": "markdown",
   "id": "82043c6f-033a-47e5-9867-daf673cc8651",
   "metadata": {},
   "source": [
    "### 2.3 논리 연산자\n",
    "\n",
    "- and : 양쪽 모두 True일때 True를 반환 \n",
    "- or : 양쪽 모두 False일떄 False 반환\n",
    "- not : 현재 상태를 부정"
   ]
  },
  {
   "cell_type": "code",
   "execution_count": null,
   "id": "e29d2f50-4bb6-418b-ac8c-f1cb27726762",
   "metadata": {},
   "outputs": [],
   "source": [
    "print(True and True)\n",
    "print(True and False)\n",
    "print(False and True)\n",
    "print(False and False)"
   ]
  },
  {
   "cell_type": "code",
   "execution_count": null,
   "id": "658f45b2-4871-47c5-97fc-33de55212858",
   "metadata": {},
   "outputs": [],
   "source": [
    "print(True or True)\n",
    "print(True or False)\n",
    "print(False or True)\n",
    "print(False or False)"
   ]
  },
  {
   "cell_type": "code",
   "execution_count": null,
   "id": "bb7ccfae-9489-408b-8d39-c3089851bd29",
   "metadata": {},
   "outputs": [],
   "source": [
    "a = True\n",
    "print(not a)"
   ]
  },
  {
   "cell_type": "code",
   "execution_count": null,
   "id": "d2f92db4-8ecc-4197-a0b0-6219b7586486",
   "metadata": {},
   "outputs": [],
   "source": [
    "# 단축평가\n",
    "\n",
    "## 시작이 True인경우 뒤에 값을 보여준다\n",
    "print(3 and 5)\n",
    "print(3 and 0)\n",
    "\n",
    "## 시작이 False인 경우 False 출력\n",
    "print(0 and 5)\n",
    "print(0 and 0)\n",
    "\n",
    "### 둘중 하나/둘다 False인경우 -> 0\n",
    "### 둘다 True인 경우 -> and 뒤에 온 숫자 출력"
   ]
  },
  {
   "cell_type": "code",
   "execution_count": 1,
   "id": "84c9f040-a9ce-4a1a-9127-cabd257b1ca0",
   "metadata": {},
   "outputs": [
    {
     "name": "stdout",
     "output_type": "stream",
     "text": [
      "3\n",
      "3\n",
      "5\n",
      "0\n"
     ]
    }
   ],
   "source": [
    "# 앞의 값을 나타 낸다\n",
    "print(3 or 5)\n",
    "print(3 or 0)\n",
    "\n",
    "# 뒤의 값을 나타 낸다\n",
    "print(0 or 5)\n",
    "print(0 or 0)\n",
    "### 둘중 하나/둘다 True인 경우 True 상태인 숫자/앞의 숫자 출력\n",
    "### 둘다 False인경우 0 출력"
   ]
  },
  {
   "cell_type": "markdown",
   "id": "41a7d737-89a9-46ee-bfdc-02823d5b6d6d",
   "metadata": {},
   "source": [
    "### 2.4 복합 연산자"
   ]
  },
  {
   "cell_type": "code",
   "execution_count": null,
   "id": "82d41a1b-d263-4f61-a627-702752586afc",
   "metadata": {},
   "outputs": [],
   "source": [
    "a = 2\n",
    "b = 3"
   ]
  },
  {
   "cell_type": "code",
   "execution_count": null,
   "id": "493cd8d0-8d38-40cc-b238-be679beea65a",
   "metadata": {},
   "outputs": [],
   "source": [
    "a = a + b\n",
    "a = a - b\n",
    "a = a * b\n",
    "a = a / b"
   ]
  },
  {
   "cell_type": "code",
   "execution_count": null,
   "id": "bb62779b-60e7-4a78-bcef-122f1e051261",
   "metadata": {},
   "outputs": [],
   "source": [
    "a += b\n",
    "a -= b\n",
    "a *= b\n",
    "a /= b\n",
    "a //= b\n",
    "a %= b\n",
    "a **= b"
   ]
  },
  {
   "cell_type": "markdown",
   "id": "2429aece-162d-497a-9357-ef63fb6abbd7",
   "metadata": {},
   "source": [
    "### 2.5 기타 연산자"
   ]
  },
  {
   "cell_type": "code",
   "execution_count": null,
   "id": "f7ce5273-ec82-47a9-8740-a1c99d894fc1",
   "metadata": {},
   "outputs": [],
   "source": [
    "a = 'hi'\n",
    "b = 'hello'"
   ]
  },
  {
   "cell_type": "code",
   "execution_count": null,
   "id": "d1ec7811-83dc-4d2d-ad9a-80bc9a6f2a9c",
   "metadata": {},
   "outputs": [],
   "source": [
    "# 문자열과 문자열의 더하기는 더하기(concatenation)\n",
    "print(a + b)\n",
    "#print(a + 1) int + str / str + int 는 불가능하다"
   ]
  },
  {
   "cell_type": "code",
   "execution_count": 2,
   "id": "0071d4fc-f6bd-4d0a-a353-e298cd6a19ff",
   "metadata": {},
   "outputs": [],
   "source": [
    "a = [1, 2, 3]\n",
    "b = [2, 3, 4]"
   ]
  },
  {
   "cell_type": "code",
   "execution_count": 3,
   "id": "98721c73-7ba2-41ea-9390-88367e6441f5",
   "metadata": {},
   "outputs": [
    {
     "name": "stdout",
     "output_type": "stream",
     "text": [
      "[1, 2, 3, 2, 3, 4]\n"
     ]
    }
   ],
   "source": [
    "print(a + b)"
   ]
  },
  {
   "cell_type": "code",
   "execution_count": 4,
   "id": "4c033592-3089-4bc1-8b75-f5dbdef612e5",
   "metadata": {},
   "outputs": [
    {
     "name": "stdout",
     "output_type": "stream",
     "text": [
      "True\n",
      "False\n"
     ]
    }
   ],
   "source": [
    "print(1 in a) # 1이라는 데이터가 a에 있나요?\n",
    "print(10 in a)"
   ]
  },
  {
   "cell_type": "code",
   "execution_count": 5,
   "id": "75ca3363-e2cd-4a12-922b-455c7a69dd34",
   "metadata": {},
   "outputs": [],
   "source": [
    "a = 100\n",
    "b = 100\n",
    "\n",
    "# -5 ~ 256까지는 항상 같은 위치에 저장 되기때문에 is 사용시 True, 그 외 숫자는 False로 뜸"
   ]
  },
  {
   "cell_type": "code",
   "execution_count": 6,
   "id": "744507e4-1187-4d68-ab61-4d3036ae8511",
   "metadata": {},
   "outputs": [
    {
     "name": "stdout",
     "output_type": "stream",
     "text": [
      "True\n",
      "True\n"
     ]
    }
   ],
   "source": [
    "print(a == b)\n",
    "print(a is b)"
   ]
  },
  {
   "cell_type": "markdown",
   "id": "b3f7b748-93aa-426b-ae74-7993f91b5254",
   "metadata": {},
   "source": [
    "### 연산자 우선순위\n",
    "\n",
    "0. ()를 통해서 그룹\n",
    "1. **\n",
    "2. 산술연산자 *, /\n",
    "3. 산술연산자 +, -\n",
    "4. 비교 연산자 in, is\n",
    "5. not\n",
    "6. and\n",
    "7. or"
   ]
  },
  {
   "cell_type": "code",
   "execution_count": 7,
   "id": "98c979de-1748-4bb2-b538-04210350605e",
   "metadata": {},
   "outputs": [
    {
     "name": "stdout",
     "output_type": "stream",
     "text": [
      "-81\n",
      "81\n"
     ]
    }
   ],
   "source": [
    "print(-3 ** 4) # 3의 4승을 먼저 계산 하고 -가 붙음\n",
    "print((-3) ** 4) # -3에 ()가 있기 때문에 -3으로 인식하고 -3의 4승으로 인식"
   ]
  },
  {
   "cell_type": "markdown",
   "id": "fd161127-4a5a-4dfc-bac4-e6ec39a55c0b",
   "metadata": {},
   "source": [
    "## 형변환"
   ]
  },
  {
   "cell_type": "markdown",
   "id": "6910597d-7c50-46e0-aec4-88d6b1e88dd6",
   "metadata": {},
   "source": [
    "### 3.1 암시적 형변환"
   ]
  },
  {
   "cell_type": "code",
   "execution_count": 8,
   "id": "6501c283-b36d-448c-bc4c-0a48bc2691c4",
   "metadata": {},
   "outputs": [],
   "source": [
    "a = True\n",
    "b = False\n",
    "c = 1"
   ]
  },
  {
   "cell_type": "code",
   "execution_count": 9,
   "id": "1b12587b-3d34-47a4-9d13-380a3850baeb",
   "metadata": {},
   "outputs": [
    {
     "name": "stdout",
     "output_type": "stream",
     "text": [
      "1\n",
      "2\n"
     ]
    }
   ],
   "source": [
    "print(a + b)\n",
    "print(a + c)"
   ]
  },
  {
   "cell_type": "markdown",
   "id": "a8297728-f317-43ad-b6dd-0310dfc4192c",
   "metadata": {},
   "source": [
    "### 3.2 명시적 형변환\n",
    "- int()\n",
    "- float()\n",
    "- str()\n",
    "- bool()"
   ]
  },
  {
   "cell_type": "code",
   "execution_count": 10,
   "id": "d87bcf91-3954-411f-a27f-3dde758b43d7",
   "metadata": {},
   "outputs": [],
   "source": [
    "a = 1\n",
    "b = '반'"
   ]
  },
  {
   "cell_type": "code",
   "execution_count": 11,
   "id": "4fcc221b-b1f5-47c7-9c7a-07b6df27cffe",
   "metadata": {},
   "outputs": [
    {
     "ename": "TypeError",
     "evalue": "unsupported operand type(s) for +: 'int' and 'str'",
     "output_type": "error",
     "traceback": [
      "\u001b[0;31m---------------------------------------------------------------------------\u001b[0m",
      "\u001b[0;31mTypeError\u001b[0m                                 Traceback (most recent call last)",
      "Cell \u001b[0;32mIn[11], line 1\u001b[0m\n\u001b[0;32m----> 1\u001b[0m \u001b[38;5;28mprint\u001b[39m(\u001b[43ma\u001b[49m\u001b[43m \u001b[49m\u001b[38;5;241;43m+\u001b[39;49m\u001b[43m \u001b[49m\u001b[43mb\u001b[49m)\n",
      "\u001b[0;31mTypeError\u001b[0m: unsupported operand type(s) for +: 'int' and 'str'"
     ]
    }
   ],
   "source": [
    "print(a + b)"
   ]
  },
  {
   "cell_type": "code",
   "execution_count": 12,
   "id": "826cffb3-0a58-4c68-beec-6ac057bc5d1f",
   "metadata": {},
   "outputs": [
    {
     "name": "stdout",
     "output_type": "stream",
     "text": [
      "1반\n"
     ]
    }
   ],
   "source": [
    "print(str(a) + b)"
   ]
  },
  {
   "cell_type": "code",
   "execution_count": 13,
   "id": "8d1844aa-6a7b-40a9-83d8-33a0148fefee",
   "metadata": {},
   "outputs": [
    {
     "name": "stdout",
     "output_type": "stream",
     "text": [
      "3\n",
      "<class 'str'>\n",
      "3\n",
      "<class 'int'>\n"
     ]
    }
   ],
   "source": [
    "a = '3'\n",
    "print(a)\n",
    "print(type(a))\n",
    "\n",
    "b = int(a)\n",
    "print(b)\n",
    "print(type(b))"
   ]
  },
  {
   "cell_type": "code",
   "execution_count": 14,
   "id": "ec0d99d5-c256-41bf-95c2-9f2e923e2767",
   "metadata": {},
   "outputs": [
    {
     "ename": "ValueError",
     "evalue": "invalid literal for int() with base 10: 'apple'",
     "output_type": "error",
     "traceback": [
      "\u001b[0;31m---------------------------------------------------------------------------\u001b[0m",
      "\u001b[0;31mValueError\u001b[0m                                Traceback (most recent call last)",
      "Cell \u001b[0;32mIn[14], line 2\u001b[0m\n\u001b[1;32m      1\u001b[0m c \u001b[38;5;241m=\u001b[39m \u001b[38;5;124m'\u001b[39m\u001b[38;5;124mapple\u001b[39m\u001b[38;5;124m'\u001b[39m\n\u001b[0;32m----> 2\u001b[0m d \u001b[38;5;241m=\u001b[39m \u001b[38;5;28;43mint\u001b[39;49m\u001b[43m(\u001b[49m\u001b[43mc\u001b[49m\u001b[43m)\u001b[49m \u001b[38;5;66;03m# int 타입으로 바꿀수 있는 것만 바꾸고 외의 것들은 오류 발생\u001b[39;00m\n",
      "\u001b[0;31mValueError\u001b[0m: invalid literal for int() with base 10: 'apple'"
     ]
    }
   ],
   "source": [
    "c = 'apple'\n",
    "d = int(c) # int 타입으로 바꿀수 있는 것만 바꾸고 외의 것들은 오류 발생"
   ]
  },
  {
   "cell_type": "code",
   "execution_count": 15,
   "id": "ce628b83-b508-444d-9e58-006b29df3290",
   "metadata": {},
   "outputs": [
    {
     "name": "stdout",
     "output_type": "stream",
     "text": [
      "True\n",
      "False\n",
      "True\n"
     ]
    }
   ],
   "source": [
    "a = 1\n",
    "b = 0\n",
    "c = -123\n",
    "print(bool(a))\n",
    "print(bool(b))\n",
    "print(bool(c))\n",
    "\n",
    "# 음수인 경우에도 True 0만 False임"
   ]
  },
  {
   "cell_type": "code",
   "execution_count": 16,
   "id": "500e07f8-8f05-4f3f-b042-ed789613446d",
   "metadata": {},
   "outputs": [
    {
     "name": "stdout",
     "output_type": "stream",
     "text": [
      "False\n",
      "True\n"
     ]
    }
   ],
   "source": [
    "print(bool([])) # 리스트에 데이터가 없는 경우 False\n",
    "print(bool([1, 2, 3])) # 리스트에 데이터가 있는 경우 True"
   ]
  }
 ],
 "metadata": {
  "kernelspec": {
   "display_name": "Python 3 (ipykernel)",
   "language": "python",
   "name": "python3"
  },
  "language_info": {
   "codemirror_mode": {
    "name": "ipython",
    "version": 3
   },
   "file_extension": ".py",
   "mimetype": "text/x-python",
   "name": "python",
   "nbconvert_exporter": "python",
   "pygments_lexer": "ipython3",
   "version": "3.13.2"
  }
 },
 "nbformat": 4,
 "nbformat_minor": 5
}
