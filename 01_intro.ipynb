{
 "cells": [
  {
   "cell_type": "markdown",
   "id": "96076e6e-d4b0-468a-9c04-820eba57dd8f",
   "metadata": {},
   "source": [
    "# 01_Intro\n",
    "\n",
    "## shortcut\n",
    "\n",
    "- cntrl + enter : 현재 셀 실행\n",
    "- shift + enter : 현재 셀 실행 + 아래로 이동(없는 경우 새로 추가\n",
    "- alt + enter : 현재 셀 실행 + 아래에 새로운 셀 추가"
   ]
  },
  {
   "cell_type": "markdown",
   "id": "0e89e8c1-fc14-476a-9479-2764449afc5c",
   "metadata": {},
   "source": [
    "## 주의사항\n",
    "\n",
    "1. Apple과 apple은 **다르다**\n",
    "2. git add. / git add . **띄어쓰기**\n",
    "3. message / massage **오타주의**"
   ]
  },
  {
   "cell_type": "markdown",
   "id": "31cb6aa3-e3ab-4071-9eca-80b0f7eea37f",
   "metadata": {},
   "source": [
    "## 01. 변수\n",
    "\n",
    "```\n",
    "var_name = value\n",
    "```\n",
    "\n",
    "- 변수 이름은어떤 이름이든 사용가능\n",
    "- 다만 영어, 숫자, _를 이용해서 선언\n",
    "- 키워드는 불가능"
   ]
  },
  {
   "cell_type": "code",
   "execution_count": null,
   "id": "8208eaeb-9d15-48cf-ba1b-968cb47e5fdf",
   "metadata": {},
   "outputs": [],
   "source": [
    "a = 100"
   ]
  },
  {
   "cell_type": "code",
   "execution_count": null,
   "id": "c65d78c2-080b-4458-9b82-0c4df1606a4c",
   "metadata": {},
   "outputs": [],
   "source": [
    "a"
   ]
  },
  {
   "cell_type": "code",
   "execution_count": null,
   "id": "ecf46712-37b9-47e5-b13b-b39f35bbfc26",
   "metadata": {},
   "outputs": [],
   "source": [
    "import keyword\n",
    "\n",
    "keyword.kwlist"
   ]
  },
  {
   "cell_type": "markdown",
   "id": "17a024c6-6ee2-480a-a5ae-04cbf347ba19",
   "metadata": {},
   "source": [
    "### 1.1 number"
   ]
  },
  {
   "cell_type": "code",
   "execution_count": null,
   "id": "d946000c-1f2f-4da9-b074-6f51aded9231",
   "metadata": {},
   "outputs": [],
   "source": [
    "a = 10000"
   ]
  },
  {
   "cell_type": "code",
   "execution_count": null,
   "id": "8c63b5f5-71ff-4a05-81d9-e1e2908db24a",
   "metadata": {},
   "outputs": [],
   "source": [
    "a"
   ]
  },
  {
   "cell_type": "code",
   "execution_count": null,
   "id": "79a6ff59-c37f-4f34-bfe8-0a862887d3ce",
   "metadata": {},
   "outputs": [],
   "source": [
    "type(a)"
   ]
  },
  {
   "cell_type": "code",
   "execution_count": null,
   "id": "ec95da3f-33c4-4e86-bc51-cc75c624dbdc",
   "metadata": {},
   "outputs": [],
   "source": [
    "b = 1.2"
   ]
  },
  {
   "cell_type": "code",
   "execution_count": null,
   "id": "56b90c3c-a0fd-4d4d-a4a2-40382153ab7b",
   "metadata": {},
   "outputs": [],
   "source": [
    "b"
   ]
  },
  {
   "cell_type": "code",
   "execution_count": null,
   "id": "961e4cc5-04a3-412d-a044-36876b2a0d81",
   "metadata": {},
   "outputs": [],
   "source": [
    "type(b)"
   ]
  },
  {
   "cell_type": "code",
   "execution_count": null,
   "id": "919c6e7b-369a-4363-8b67-f47912708815",
   "metadata": {},
   "outputs": [],
   "source": [
    "c = 1 + 1j"
   ]
  },
  {
   "cell_type": "code",
   "execution_count": null,
   "id": "10980cd7-08a2-4771-bbdb-a7156b1c51f4",
   "metadata": {},
   "outputs": [],
   "source": [
    "c"
   ]
  },
  {
   "cell_type": "code",
   "execution_count": null,
   "id": "86950058-bd84-45a0-9885-d1b6c51ff8eb",
   "metadata": {},
   "outputs": [],
   "source": [
    "type(c)"
   ]
  },
  {
   "cell_type": "markdown",
   "id": "a0cf4f84-39a7-4797-b25b-9da72440bee6",
   "metadata": {},
   "source": [
    "### 1.2 boolean"
   ]
  },
  {
   "cell_type": "code",
   "execution_count": null,
   "id": "9d1f5803-ebd4-4af9-9297-2e4161f007a3",
   "metadata": {},
   "outputs": [],
   "source": [
    "a = True"
   ]
  },
  {
   "cell_type": "code",
   "execution_count": null,
   "id": "d46b1010-2a19-4472-a642-fb0c93dc26fa",
   "metadata": {},
   "outputs": [],
   "source": [
    "a"
   ]
  },
  {
   "cell_type": "code",
   "execution_count": null,
   "id": "f4ae858c-5343-4ca4-a26e-41a3805bc9b0",
   "metadata": {},
   "outputs": [],
   "source": [
    "type(a)"
   ]
  },
  {
   "cell_type": "code",
   "execution_count": null,
   "id": "7042e422-0503-4edd-9f59-b31081a6d2af",
   "metadata": {},
   "outputs": [],
   "source": [
    "b = False"
   ]
  },
  {
   "cell_type": "code",
   "execution_count": null,
   "id": "81cf31f1-3e03-4e54-946c-15b29a1dfe1b",
   "metadata": {},
   "outputs": [],
   "source": [
    "b"
   ]
  },
  {
   "cell_type": "code",
   "execution_count": null,
   "id": "3bcd7735-84c5-4a14-b5b3-913e6ac929d3",
   "metadata": {},
   "outputs": [],
   "source": [
    "type(b)"
   ]
  },
  {
   "cell_type": "markdown",
   "id": "c294c862-533e-43f1-8961-3a54d8d07e9a",
   "metadata": {},
   "source": [
    "### 1.3 string\n",
    "\n",
    "- `'`, `\"`를 이용하여 표현"
   ]
  },
  {
   "cell_type": "code",
   "execution_count": null,
   "id": "b230fd88-f779-4430-8598-a4cc4554a31e",
   "metadata": {},
   "outputs": [],
   "source": [
    "a = 'hello!'"
   ]
  },
  {
   "cell_type": "code",
   "execution_count": null,
   "id": "269a171b-2916-4f77-8b63-fce75774b1fb",
   "metadata": {},
   "outputs": [],
   "source": [
    "b = \"hi\""
   ]
  },
  {
   "cell_type": "code",
   "execution_count": null,
   "id": "c557be56-256e-441c-a293-bcb2ab2efef8",
   "metadata": {},
   "outputs": [],
   "source": [
    "a"
   ]
  },
  {
   "cell_type": "code",
   "execution_count": null,
   "id": "65926271-47fc-40bb-968f-a4a865598ada",
   "metadata": {},
   "outputs": [],
   "source": [
    "b"
   ]
  },
  {
   "cell_type": "code",
   "execution_count": null,
   "id": "906c1d55-9b6e-4bba-be9e-52c540898a43",
   "metadata": {},
   "outputs": [],
   "source": [
    "print('hello my name is \"jungseok\"')"
   ]
  },
  {
   "cell_type": "code",
   "execution_count": null,
   "id": "0e13d42d-c061-4dfe-80fc-c1bac02456b5",
   "metadata": {},
   "outputs": [],
   "source": [
    "print('hello my name is \\'jungseok\\'')"
   ]
  },
  {
   "cell_type": "code",
   "execution_count": null,
   "id": "9cfcdc60-ceab-49dc-9ea7-5281282f18a9",
   "metadata": {},
   "outputs": [],
   "source": [
    "a = '''\n",
    "hello\n",
    "world\n",
    "hi\n",
    "'''"
   ]
  },
  {
   "cell_type": "code",
   "execution_count": null,
   "id": "6f6e8426-dde1-4ba4-9084-a95123073d97",
   "metadata": {},
   "outputs": [],
   "source": [
    "a"
   ]
  },
  {
   "cell_type": "code",
   "execution_count": null,
   "id": "8bae5519-5a19-49e0-aa97-3f91e712aa51",
   "metadata": {},
   "outputs": [],
   "source": [
    "a = 10\n",
    "b = '홍길동은 살입니다.'"
   ]
  },
  {
   "cell_type": "markdown",
   "id": "10f5a2ba-df38-4a63-a72a-7da340323f5a",
   "metadata": {},
   "source": [
    "### string interpolation\n",
    "\n",
    "- %-formatting\n",
    "- str.format()\n",
    "- f-string"
   ]
  },
  {
   "cell_type": "code",
   "execution_count": null,
   "id": "9d24b6ca-a983-445a-a7fe-0c4ba455484c",
   "metadata": {},
   "outputs": [],
   "source": [
    "age = 10"
   ]
  },
  {
   "cell_type": "code",
   "execution_count": null,
   "id": "cdf5cef7-062f-477b-a009-c1a374755edc",
   "metadata": {},
   "outputs": [],
   "source": [
    "# %-formatting\n",
    "\n",
    "print('홍길동은 %s살입니다.' % age)"
   ]
  },
  {
   "cell_type": "code",
   "execution_count": null,
   "id": "d99d6f05-7d23-4ba2-a1f8-4be9dea4ea2f",
   "metadata": {},
   "outputs": [],
   "source": [
    "# str.format()\n",
    "\n",
    "print('홍길동은 {}살입니다.'.format(age))"
   ]
  },
  {
   "cell_type": "code",
   "execution_count": null,
   "id": "276d5a0e-d77d-4b17-a537-427bc914b568",
   "metadata": {},
   "outputs": [],
   "source": [
    "# f-string\n",
    "\n",
    "print(f'홍길동은 {age}살입니다')"
   ]
  },
  {
   "cell_type": "markdown",
   "id": "3e205e7d-ffee-4897-a639-17c5cdc9c0cf",
   "metadata": {},
   "source": [
    "## 02. 연산자\n",
    "\n",
    "### 2.1 산술연산자"
   ]
  },
  {
   "cell_type": "code",
   "execution_count": null,
   "id": "e3ee2393-8583-4a5e-97d9-ae13850d20ff",
   "metadata": {},
   "outputs": [],
   "source": [
    "a = 5\n",
    "b = 2"
   ]
  },
  {
   "cell_type": "code",
   "execution_count": null,
   "id": "c7c840a1-1c43-4c77-b9f6-4a2396ef4783",
   "metadata": {},
   "outputs": [],
   "source": [
    "print(a + b)\n",
    "print(a - b)\n",
    "print(a * b)\n",
    "print(a / b)"
   ]
  },
  {
   "cell_type": "code",
   "execution_count": null,
   "id": "4d04915f-ee7f-46f0-917c-bcb8d02c4c40",
   "metadata": {},
   "outputs": [],
   "source": [
    "print(a ** b) #2의 5승\n",
    "print(a // b) #a를 b로 나눈 몫\n",
    "print(a % b) #a를 b로 나눈 나머지"
   ]
  },
  {
   "cell_type": "code",
   "execution_count": null,
   "id": "384d13e4-5971-4632-aea7-e33465cad224",
   "metadata": {},
   "outputs": [],
   "source": [
    "result = divmod(a, b) #divmod란? a를 b로 나눈 몫을 하나 만들고 나머지를 만든다\n",
    "\n",
    "print(result)"
   ]
  },
  {
   "cell_type": "markdown",
   "id": "b819a21e-65d9-4c7b-a9b6-f13d20aff390",
   "metadata": {},
   "source": [
    "### 2.2 비교 연산자"
   ]
  },
  {
   "cell_type": "code",
   "execution_count": null,
   "id": "fb17e3aa-5890-4091-bc9a-0579f8e4fa0c",
   "metadata": {},
   "outputs": [],
   "source": [
    "a = 5\n",
    "b = 10"
   ]
  },
  {
   "cell_type": "code",
   "execution_count": null,
   "id": "9748d8ae-6e3f-4015-99ce-bbe74f2a556a",
   "metadata": {},
   "outputs": [],
   "source": [
    "print(a > b)\n",
    "print(a < b)\n",
    "print(a >= b)\n",
    "print(a <= b)"
   ]
  },
  {
   "cell_type": "code",
   "execution_count": null,
   "id": "8a977bfa-9a2b-4e0f-b0b2-ea499265e005",
   "metadata": {},
   "outputs": [],
   "source": [
    "print(a == b)\n",
    "print(a != b)"
   ]
  },
  {
   "cell_type": "code",
   "execution_count": null,
   "id": "638a8d7c-6d96-4e61-bb60-40f0fd8b6265",
   "metadata": {},
   "outputs": [],
   "source": [
    "print('hi' == 'hi')\n",
    "print('hi' == 'Hi') # 대소문자를 구분"
   ]
  },
  {
   "cell_type": "markdown",
   "id": "82043c6f-033a-47e5-9867-daf673cc8651",
   "metadata": {},
   "source": [
    "### 2.3 논리 연산자\n",
    "\n",
    "- and : 양쪽 모두 True일때 True를 반환 \n",
    "- or : 양쪽 모두 False일떄 False 반환\n",
    "- not : 현재 상태를 부정"
   ]
  },
  {
   "cell_type": "code",
   "execution_count": null,
   "id": "e29d2f50-4bb6-418b-ac8c-f1cb27726762",
   "metadata": {},
   "outputs": [],
   "source": [
    "print(True and True)\n",
    "print(True and False)\n",
    "print(False and True)\n",
    "print(False and False)"
   ]
  },
  {
   "cell_type": "code",
   "execution_count": null,
   "id": "658f45b2-4871-47c5-97fc-33de55212858",
   "metadata": {},
   "outputs": [],
   "source": [
    "print(True or True)\n",
    "print(True or False)\n",
    "print(False or True)\n",
    "print(False or False)"
   ]
  },
  {
   "cell_type": "code",
   "execution_count": null,
   "id": "bb7ccfae-9489-408b-8d39-c3089851bd29",
   "metadata": {},
   "outputs": [],
   "source": [
    "a = True\n",
    "print(not a)"
   ]
  },
  {
   "cell_type": "code",
   "execution_count": null,
   "id": "d2f92db4-8ecc-4197-a0b0-6219b7586486",
   "metadata": {},
   "outputs": [],
   "source": [
    "# 단축평가\n",
    "\n",
    "## 시작이 True인경우 뒤에 값을 보여준다\n",
    "print(3 and 5)\n",
    "print(3 and 0)\n",
    "\n",
    "## 시작이 False인 경우 False 출력\n",
    "print(0 and 5)\n",
    "print(0 and 0)\n",
    "\n",
    "### 둘중 하나/둘다 False인경우 -> 0\n",
    "### 둘다 True인 경우 -> and 뒤에 온 숫자 출력"
   ]
  },
  {
   "cell_type": "code",
   "execution_count": 1,
   "id": "84c9f040-a9ce-4a1a-9127-cabd257b1ca0",
   "metadata": {},
   "outputs": [
    {
     "name": "stdout",
     "output_type": "stream",
     "text": [
      "3\n",
      "3\n",
      "5\n",
      "0\n"
     ]
    }
   ],
   "source": [
    "# 앞의 값을 나타 낸다\n",
    "print(3 or 5)\n",
    "print(3 or 0)\n",
    "\n",
    "# 뒤의 값을 나타 낸다\n",
    "print(0 or 5)\n",
    "print(0 or 0)\n",
    "### 둘중 하나/둘다 True인 경우 True 상태인 숫자/앞의 숫자 출력\n",
    "### 둘다 False인경우 0 출력"
   ]
  },
  {
   "cell_type": "markdown",
   "id": "41a7d737-89a9-46ee-bfdc-02823d5b6d6d",
   "metadata": {},
   "source": [
    "### 2.4 복합 연산자"
   ]
  },
  {
   "cell_type": "code",
   "execution_count": null,
   "id": "82d41a1b-d263-4f61-a627-702752586afc",
   "metadata": {},
   "outputs": [],
   "source": [
    "a = 2\n",
    "b = 3"
   ]
  },
  {
   "cell_type": "code",
   "execution_count": null,
   "id": "493cd8d0-8d38-40cc-b238-be679beea65a",
   "metadata": {},
   "outputs": [],
   "source": [
    "a = a + b\n",
    "a = a - b\n",
    "a = a * b\n",
    "a = a / b"
   ]
  },
  {
   "cell_type": "code",
   "execution_count": null,
   "id": "bb62779b-60e7-4a78-bcef-122f1e051261",
   "metadata": {},
   "outputs": [],
   "source": [
    "a += b\n",
    "a -= b\n",
    "a *= b\n",
    "a /= b\n",
    "a //= b\n",
    "a %= b\n",
    "a **= b"
   ]
  },
  {
   "cell_type": "markdown",
   "id": "2429aece-162d-497a-9357-ef63fb6abbd7",
   "metadata": {},
   "source": [
    "### 2.5 기타 연산자"
   ]
  },
  {
   "cell_type": "code",
   "execution_count": 1,
   "id": "f7ce5273-ec82-47a9-8740-a1c99d894fc1",
   "metadata": {},
   "outputs": [],
   "source": [
    "a = 'hi'\n",
    "b = 'hello'"
   ]
  },
  {
   "cell_type": "code",
   "execution_count": 2,
   "id": "d1ec7811-83dc-4d2d-ad9a-80bc9a6f2a9c",
   "metadata": {},
   "outputs": [
    {
     "name": "stdout",
     "output_type": "stream",
     "text": [
      "hihello\n"
     ]
    }
   ],
   "source": [
    "# 문자열과 문자열의 더하기는 더하기(concatenation)\n",
    "print(a + b)\n",
    "#print(a + 1) int + str / str + int 는 불가능하다"
   ]
  },
  {
   "cell_type": "code",
   "execution_count": 3,
   "id": "0071d4fc-f6bd-4d0a-a353-e298cd6a19ff",
   "metadata": {},
   "outputs": [],
   "source": [
    "a = [1, 2, 3]\n",
    "b = [2, 3, 4]"
   ]
  },
  {
   "cell_type": "code",
   "execution_count": 4,
   "id": "98721c73-7ba2-41ea-9390-88367e6441f5",
   "metadata": {},
   "outputs": [
    {
     "name": "stdout",
     "output_type": "stream",
     "text": [
      "[1, 2, 3, 2, 3, 4]\n"
     ]
    }
   ],
   "source": [
    "print(a + b)"
   ]
  },
  {
   "cell_type": "code",
   "execution_count": 5,
   "id": "4c033592-3089-4bc1-8b75-f5dbdef612e5",
   "metadata": {},
   "outputs": [
    {
     "name": "stdout",
     "output_type": "stream",
     "text": [
      "True\n",
      "False\n"
     ]
    }
   ],
   "source": [
    "print(1 in a) # 1이라는 데이터가 a에 있나요?\n",
    "print(10 in a)"
   ]
  },
  {
   "cell_type": "code",
   "execution_count": 6,
   "id": "75ca3363-e2cd-4a12-922b-455c7a69dd34",
   "metadata": {},
   "outputs": [],
   "source": [
    "a = 100\n",
    "b = 100\n",
    "\n",
    "# -5 ~ 256까지는 항상 같은 위치에 저장 되기때문에 is 사용시 True, 그 외 숫자는 False로 뜸"
   ]
  },
  {
   "cell_type": "code",
   "execution_count": 7,
   "id": "744507e4-1187-4d68-ab61-4d3036ae8511",
   "metadata": {},
   "outputs": [
    {
     "name": "stdout",
     "output_type": "stream",
     "text": [
      "True\n",
      "True\n"
     ]
    }
   ],
   "source": [
    "print(a == b)\n",
    "print(a is b)"
   ]
  },
  {
   "cell_type": "markdown",
   "id": "b3f7b748-93aa-426b-ae74-7993f91b5254",
   "metadata": {},
   "source": [
    "### 연산자 우선순위\n",
    "\n",
    "0. ()를 통해서 그룹\n",
    "1. **\n",
    "2. 산술연산자 *, /\n",
    "3. 산술연산자 +, -\n",
    "4. 비교 연산자 in, is\n",
    "5. not\n",
    "6. and\n",
    "7. or"
   ]
  },
  {
   "cell_type": "code",
   "execution_count": 8,
   "id": "98c979de-1748-4bb2-b538-04210350605e",
   "metadata": {},
   "outputs": [
    {
     "name": "stdout",
     "output_type": "stream",
     "text": [
      "-81\n",
      "81\n"
     ]
    }
   ],
   "source": [
    "print(-3 ** 4) # 3의 4승을 먼저 계산 하고 -가 붙음\n",
    "print((-3) ** 4) # -3에 ()가 있기 때문에 -3으로 인식하고 -3의 4승으로 인식"
   ]
  },
  {
   "cell_type": "markdown",
   "id": "fd161127-4a5a-4dfc-bac4-e6ec39a55c0b",
   "metadata": {},
   "source": [
    "## 형변환"
   ]
  },
  {
   "cell_type": "markdown",
   "id": "6910597d-7c50-46e0-aec4-88d6b1e88dd6",
   "metadata": {},
   "source": [
    "### 3.1 암시적 형변환"
   ]
  },
  {
   "cell_type": "code",
   "execution_count": 9,
   "id": "6501c283-b36d-448c-bc4c-0a48bc2691c4",
   "metadata": {},
   "outputs": [],
   "source": [
    "a = True\n",
    "b = False\n",
    "c = 1"
   ]
  },
  {
   "cell_type": "code",
   "execution_count": 10,
   "id": "1b12587b-3d34-47a4-9d13-380a3850baeb",
   "metadata": {},
   "outputs": [
    {
     "name": "stdout",
     "output_type": "stream",
     "text": [
      "1\n",
      "2\n"
     ]
    }
   ],
   "source": [
    "print(a + b)\n",
    "print(a + c)"
   ]
  },
  {
   "cell_type": "markdown",
   "id": "a8297728-f317-43ad-b6dd-0310dfc4192c",
   "metadata": {},
   "source": [
    "### 3.2 명시적 형변환\n",
    "- int()\n",
    "- float()\n",
    "- str()\n",
    "- bool()"
   ]
  },
  {
   "cell_type": "code",
   "execution_count": 11,
   "id": "d87bcf91-3954-411f-a27f-3dde758b43d7",
   "metadata": {},
   "outputs": [],
   "source": [
    "a = 1\n",
    "b = '반'"
   ]
  },
  {
   "cell_type": "code",
   "execution_count": 12,
   "id": "4fcc221b-b1f5-47c7-9c7a-07b6df27cffe",
   "metadata": {},
   "outputs": [
    {
     "ename": "TypeError",
     "evalue": "unsupported operand type(s) for +: 'int' and 'str'",
     "output_type": "error",
     "traceback": [
      "\u001b[1;31m---------------------------------------------------------------------------\u001b[0m",
      "\u001b[1;31mTypeError\u001b[0m                                 Traceback (most recent call last)",
      "Cell \u001b[1;32mIn[12], line 1\u001b[0m\n\u001b[1;32m----> 1\u001b[0m \u001b[38;5;28mprint\u001b[39m(\u001b[43ma\u001b[49m\u001b[43m \u001b[49m\u001b[38;5;241;43m+\u001b[39;49m\u001b[43m \u001b[49m\u001b[43mb\u001b[49m)\n",
      "\u001b[1;31mTypeError\u001b[0m: unsupported operand type(s) for +: 'int' and 'str'"
     ]
    }
   ],
   "source": [
    "print(a + b)"
   ]
  },
  {
   "cell_type": "code",
   "execution_count": 13,
   "id": "826cffb3-0a58-4c68-beec-6ac057bc5d1f",
   "metadata": {},
   "outputs": [
    {
     "name": "stdout",
     "output_type": "stream",
     "text": [
      "1반\n"
     ]
    }
   ],
   "source": [
    "print(str(a) + b)"
   ]
  },
  {
   "cell_type": "code",
   "execution_count": 14,
   "id": "8d1844aa-6a7b-40a9-83d8-33a0148fefee",
   "metadata": {},
   "outputs": [
    {
     "name": "stdout",
     "output_type": "stream",
     "text": [
      "3\n",
      "<class 'str'>\n",
      "3\n",
      "<class 'int'>\n"
     ]
    }
   ],
   "source": [
    "a = '3'\n",
    "print(a)\n",
    "print(type(a))\n",
    "\n",
    "b = int(a)\n",
    "print(b)\n",
    "print(type(b))"
   ]
  },
  {
   "cell_type": "code",
   "execution_count": 14,
   "id": "ec0d99d5-c256-41bf-95c2-9f2e923e2767",
   "metadata": {},
   "outputs": [
    {
     "ename": "ValueError",
     "evalue": "invalid literal for int() with base 10: 'apple'",
     "output_type": "error",
     "traceback": [
      "\u001b[0;31m---------------------------------------------------------------------------\u001b[0m",
      "\u001b[0;31mValueError\u001b[0m                                Traceback (most recent call last)",
      "Cell \u001b[0;32mIn[14], line 2\u001b[0m\n\u001b[1;32m      1\u001b[0m c \u001b[38;5;241m=\u001b[39m \u001b[38;5;124m'\u001b[39m\u001b[38;5;124mapple\u001b[39m\u001b[38;5;124m'\u001b[39m\n\u001b[0;32m----> 2\u001b[0m d \u001b[38;5;241m=\u001b[39m \u001b[38;5;28;43mint\u001b[39;49m\u001b[43m(\u001b[49m\u001b[43mc\u001b[49m\u001b[43m)\u001b[49m \u001b[38;5;66;03m# int 타입으로 바꿀수 있는 것만 바꾸고 외의 것들은 오류 발생\u001b[39;00m\n",
      "\u001b[0;31mValueError\u001b[0m: invalid literal for int() with base 10: 'apple'"
     ]
    }
   ],
   "source": [
    "c = 'apple'\n",
    "d = int(c) # int 타입으로 바꿀수 있는 것만 바꾸고 외의 것들은 오류 발생"
   ]
  },
  {
   "cell_type": "code",
   "execution_count": 15,
   "id": "ce628b83-b508-444d-9e58-006b29df3290",
   "metadata": {},
   "outputs": [
    {
     "name": "stdout",
     "output_type": "stream",
     "text": [
      "True\n",
      "False\n",
      "True\n"
     ]
    }
   ],
   "source": [
    "a = 1\n",
    "b = 0\n",
    "c = -123\n",
    "print(bool(a))\n",
    "print(bool(b))\n",
    "print(bool(c))\n",
    "\n",
    "# 음수인 경우에도 True 0만 False임"
   ]
  },
  {
   "cell_type": "code",
   "execution_count": 16,
   "id": "500e07f8-8f05-4f3f-b042-ed789613446d",
   "metadata": {},
   "outputs": [
    {
     "name": "stdout",
     "output_type": "stream",
     "text": [
      "False\n",
      "True\n"
     ]
    }
   ],
   "source": [
    "print(bool([])) # 리스트에 데이터가 없는 경우 False\n",
    "print(bool([1, 2, 3])) # 리스트에 데이터가 있는 경우 True"
   ]
  },
  {
   "cell_type": "markdown",
   "id": "57311313-1cce-4e84-8ff2-c896cd9e477f",
   "metadata": {},
   "source": [
    "## 4. 시퀀스 자료형\n",
    "- 시퀀스는 데이터의 **순서대로** 나열된 자료구조. (순서대로 나열되었다 != 정렬되었다)\n",
    "\n",
    "1. List\n",
    "2. Tuple\n",
    "3. Range\n",
    "4. String"
   ]
  },
  {
   "cell_type": "markdown",
   "id": "b50bdadf-2284-4d90-adbd-67ec4626167e",
   "metadata": {},
   "source": [
    "### 4.1 List(리스트, 배열)\n",
    "- 선언 : `var_name = [value_1, value_2, value_3, ...]`\n",
    "- 접근 : `var_name[index] -> 0부터 시작`"
   ]
  },
  {
   "cell_type": "code",
   "execution_count": 6,
   "id": "0e9c3206-26dd-42ed-80ab-3d57eb7f28a2",
   "metadata": {},
   "outputs": [
    {
     "name": "stdout",
     "output_type": "stream",
     "text": [
      "[]\n",
      "<class 'list'>\n"
     ]
    }
   ],
   "source": [
    "l = []\n",
    "print(l)\n",
    "print(type(l))"
   ]
  },
  {
   "cell_type": "code",
   "execution_count": 16,
   "id": "8995ac00-364f-4df3-b56c-3734ee25de9d",
   "metadata": {},
   "outputs": [
    {
     "name": "stdout",
     "output_type": "stream",
     "text": [
      "['서울', '대전', '부산']\n",
      "대전\n",
      "['서울', '대구', '부산']\n"
     ]
    }
   ],
   "source": [
    "location = ['서울', '대전', '부산']\n",
    "print(location)\n",
    "print(location[1])\n",
    "\n",
    "location[1] = '대구'\n",
    "print(location)"
   ]
  },
  {
   "cell_type": "markdown",
   "id": "029465bc-8a2d-46bc-89e3-436bcf754b60",
   "metadata": {},
   "source": [
    "### 4.2 Tuple(튜플)\n",
    "- 선언 : `var_name = (value_0, value_1, value_2, ...)`\n",
    "- 접근 : `var_name[index]`\n",
    "- **수정불가능(immutable)**"
   ]
  },
  {
   "cell_type": "code",
   "execution_count": 19,
   "id": "e045b1f6-17e7-40f1-97f7-6ee6fd460971",
   "metadata": {},
   "outputs": [
    {
     "name": "stdout",
     "output_type": "stream",
     "text": [
      "('서울', '대전', '대구')\n",
      "서울\n"
     ]
    }
   ],
   "source": [
    "location = ('서울', '대전', '대구')\n",
    "print(location)\n",
    "print(location[0])"
   ]
  },
  {
   "cell_type": "code",
   "execution_count": 21,
   "id": "71ba24e2-8f5a-4c6d-ad09-b1951fbb68b5",
   "metadata": {},
   "outputs": [
    {
     "ename": "TypeError",
     "evalue": "'tuple' object does not support item assignment",
     "output_type": "error",
     "traceback": [
      "\u001b[0;31m---------------------------------------------------------------------------\u001b[0m",
      "\u001b[0;31mTypeError\u001b[0m                                 Traceback (most recent call last)",
      "Cell \u001b[0;32mIn[21], line 1\u001b[0m\n\u001b[0;32m----> 1\u001b[0m \u001b[43mlocation\u001b[49m\u001b[43m[\u001b[49m\u001b[38;5;241;43m2\u001b[39;49m\u001b[43m]\u001b[49m \u001b[38;5;241m=\u001b[39m \u001b[38;5;124m'\u001b[39m\u001b[38;5;124m부산\u001b[39m\u001b[38;5;124m'\u001b[39m\n\u001b[1;32m      3\u001b[0m \u001b[38;5;66;03m# TypeError: 'tuple' object does not support item assignment 발생\u001b[39;00m\n",
      "\u001b[0;31mTypeError\u001b[0m: 'tuple' object does not support item assignment"
     ]
    }
   ],
   "source": [
    "location[2] = '부산'\n",
    "\n",
    "# TypeError: 'tuple' object does not support item assignment 발생"
   ]
  },
  {
   "cell_type": "code",
   "execution_count": 25,
   "id": "d9803238-29fd-4a53-b777-4a44525a1639",
   "metadata": {},
   "outputs": [
    {
     "name": "stdout",
     "output_type": "stream",
     "text": [
      "(2, 1)\n",
      "<class 'tuple'>\n"
     ]
    }
   ],
   "source": [
    "result = divmod(5,2)\n",
    "print(result)\n",
    "print(type(result))"
   ]
  },
  {
   "cell_type": "code",
   "execution_count": 30,
   "id": "22d8e59f-16a2-4420-9f65-c2a5496e0057",
   "metadata": {},
   "outputs": [
    {
     "name": "stdout",
     "output_type": "stream",
     "text": [
      "2 1\n"
     ]
    }
   ],
   "source": [
    "x = 1\n",
    "y = 2\n",
    "(x, y) = (y, x)\n",
    "print(x, y)"
   ]
  },
  {
   "cell_type": "markdown",
   "id": "610ddb09-0512-4a37-9b88-e4508b2cb380",
   "metadata": {},
   "source": [
    "### 4.3 Range\n",
    "- range(n) : 0 ~ n-1까지 범위\n",
    "- range(n, m) : n ~ m-1까지 범위\n",
    "- range(n, m, s) : n~m-1까지 s만큼 증가하는 범위"
   ]
  },
  {
   "cell_type": "code",
   "execution_count": 40,
   "id": "7f70da61-ccb9-4ced-8aff-2252a11ac446",
   "metadata": {},
   "outputs": [
    {
     "name": "stdout",
     "output_type": "stream",
     "text": [
      "range(0, 45)\n",
      "[0, 1, 2, 3, 4, 5, 6, 7, 8, 9, 10, 11, 12, 13, 14, 15, 16, 17, 18, 19, 20, 21, 22, 23, 24, 25, 26, 27, 28, 29, 30, 31, 32, 33, 34, 35, 36, 37, 38, 39, 40, 41, 42, 43, 44]\n"
     ]
    }
   ],
   "source": [
    "lotto = range(45)\n",
    "print(lotto)\n",
    "print(list(lotto)) # 리스트로 형변환"
   ]
  },
  {
   "cell_type": "code",
   "execution_count": 43,
   "id": "6d871ece-a497-450e-b484-0d84a1f23f1f",
   "metadata": {},
   "outputs": [
    {
     "name": "stdout",
     "output_type": "stream",
     "text": [
      "range(1, 46)\n",
      "[1, 2, 3, 4, 5, 6, 7, 8, 9, 10, 11, 12, 13, 14, 15, 16, 17, 18, 19, 20, 21, 22, 23, 24, 25, 26, 27, 28, 29, 30, 31, 32, 33, 34, 35, 36, 37, 38, 39, 40, 41, 42, 43, 44, 45]\n"
     ]
    }
   ],
   "source": [
    "lotto = range(1, 46)\n",
    "print(lotto)\n",
    "print(list(lotto))"
   ]
  },
  {
   "cell_type": "code",
   "execution_count": 45,
   "id": "2e92f0aa-47bf-46aa-a7e0-0d46e5461559",
   "metadata": {},
   "outputs": [
    {
     "name": "stdout",
     "output_type": "stream",
     "text": [
      "[2, 4, 6, 8, 10, 12, 14, 16, 18]\n"
     ]
    }
   ],
   "source": [
    "even = range(2, 20, 2) \n",
    "print(list(even))"
   ]
  },
  {
   "cell_type": "code",
   "execution_count": 47,
   "id": "2a0690f9-be53-44d1-a02c-854a018a33eb",
   "metadata": {},
   "outputs": [
    {
     "name": "stdout",
     "output_type": "stream",
     "text": [
      "[0, -2, -4, -6, -8, -10, -12, -14, -16, -18]\n"
     ]
    }
   ],
   "source": [
    "numbers = range(0, -20, -2)\n",
    "print(list(numbers))"
   ]
  },
  {
   "cell_type": "markdown",
   "id": "dad51a24-3b62-4b90-8bc6-12897df9fb35",
   "metadata": {},
   "source": [
    "### 4.4 String\n",
    "- 기본 데이터 구조 참고"
   ]
  },
  {
   "cell_type": "code",
   "execution_count": 48,
   "id": "324cebc6-2837-42dc-9799-ae850f9af6a1",
   "metadata": {},
   "outputs": [
    {
     "name": "stdout",
     "output_type": "stream",
     "text": [
      ",\n"
     ]
    }
   ],
   "source": [
    "s = 'hi, my name is jung'\n",
    "print(s[2])"
   ]
  },
  {
   "cell_type": "markdown",
   "id": "7cabade0-dac0-4ac5-b865-3e325225714d",
   "metadata": {},
   "source": [
    "### 4.5 시퀀스에서 활용 가능한 연산/함수"
   ]
  },
  {
   "cell_type": "code",
   "execution_count": 49,
   "id": "59ef0ac0-8e3e-4437-894c-c1adacdd0489",
   "metadata": {},
   "outputs": [],
   "source": [
    "my_list = ['a', 'b', 'c', 'd', 'e']\n",
    "my_tuple = (6, 7, 8, 9, 10)\n",
    "my_range = range(5)\n",
    "my_string = '가나다라마'"
   ]
  },
  {
   "cell_type": "code",
   "execution_count": 50,
   "id": "2054f413-90ac-4917-8dd0-d158b36f027f",
   "metadata": {},
   "outputs": [
    {
     "name": "stdout",
     "output_type": "stream",
     "text": [
      "a\n",
      "6\n",
      "0\n",
      "가\n"
     ]
    }
   ],
   "source": [
    "# indexing\n",
    "\n",
    "print(my_list[0])\n",
    "print(my_tuple[0])\n",
    "print(my_range[0])\n",
    "print(my_string[0])"
   ]
  },
  {
   "cell_type": "code",
   "execution_count": 55,
   "id": "d9e48101-5ef1-4ed6-aa95-a8b36b1bab17",
   "metadata": {},
   "outputs": [
    {
     "name": "stdout",
     "output_type": "stream",
     "text": [
      "['c', 'd', 'e']\n",
      "(8, 9, 10)\n",
      "range(2, 5)\n",
      "다라마\n"
     ]
    }
   ],
   "source": [
    "# slicing\n",
    "# var_name[index1:index2]\n",
    "print(my_list[2:5])\n",
    "print(my_tuple[2:5])\n",
    "print(my_range[2:5])\n",
    "print(my_string[2:5])"
   ]
  },
  {
   "cell_type": "code",
   "execution_count": 59,
   "id": "b2e922a4-c309-4edd-bc91-91a58636abe8",
   "metadata": {},
   "outputs": [
    {
     "name": "stdout",
     "output_type": "stream",
     "text": [
      "['d', 'e']\n",
      "['a', 'b', 'c']\n"
     ]
    }
   ],
   "source": [
    "# 인덱스 생략\n",
    "\n",
    "print(my_list[3:])\n",
    "print(my_list[:3])"
   ]
  },
  {
   "cell_type": "code",
   "execution_count": 63,
   "id": "9f6d5a27-7ceb-4747-b630-9dc066bb143c",
   "metadata": {},
   "outputs": [
    {
     "name": "stdout",
     "output_type": "stream",
     "text": [
      "['b', 'c', 'd']\n"
     ]
    }
   ],
   "source": [
    "# 인덱스 음수\n",
    "print(my_list[1:-1])"
   ]
  },
  {
   "cell_type": "code",
   "execution_count": 65,
   "id": "6ab43c89-a3eb-4341-8ec0-ef4f1412dd63",
   "metadata": {},
   "outputs": [
    {
     "name": "stdout",
     "output_type": "stream",
     "text": [
      "['a', 'c', 'e']\n"
     ]
    }
   ],
   "source": [
    "# step\n",
    "\n",
    "print(my_list[::2]) # 2칸씩 indexing"
   ]
  },
  {
   "cell_type": "code",
   "execution_count": 71,
   "id": "6868da08-1d88-45b4-a93a-2e96b151e28b",
   "metadata": {},
   "outputs": [
    {
     "name": "stdout",
     "output_type": "stream",
     "text": [
      "False\n",
      "True\n",
      "False\n"
     ]
    }
   ],
   "source": [
    "# in \n",
    "# 들어있나요?\n",
    "print(1 in my_list)\n",
    "print('a' in my_list)\n",
    "\n",
    "# not in\n",
    "# 들어있지 않나요?\n",
    "print('a' not in my_list)"
   ]
  },
  {
   "cell_type": "code",
   "execution_count": 74,
   "id": "68f0e9cc-7364-422e-9faf-cc15d54621c5",
   "metadata": {},
   "outputs": [
    {
     "name": "stdout",
     "output_type": "stream",
     "text": [
      "['a', 'b', 'c', 'd', 'e', 1, 2, 3, 4, 5]\n",
      "(6, 7, 8, 9, 10, 1, 2, 3, 4, 5)\n"
     ]
    }
   ],
   "source": [
    "# concatennation\n",
    "\n",
    "print(my_list + [1, 2, 3, 4, 5])\n",
    "print(my_tuple + (1, 2, 3, 4, 5))"
   ]
  },
  {
   "cell_type": "code",
   "execution_count": 79,
   "id": "258d912f-fc06-47b9-8e31-387bb2b68764",
   "metadata": {},
   "outputs": [
    {
     "name": "stdout",
     "output_type": "stream",
     "text": [
      "['a', 'b', 'c', 'd', 'e', 'a', 'b', 'c', 'd', 'e']\n",
      "aaaaa\n",
      "[0, 0, 0, 0, 0, 0, 0, 0, 0, 0, 0, 0, 0, 0, 0, 0, 0, 0, 0, 0, 0, 0, 0, 0, 0, 0, 0, 0, 0, 0, 0, 0, 0, 0, 0, 0, 0, 0, 0, 0, 0, 0, 0, 0, 0, 0, 0, 0, 0, 0, 0, 0, 0, 0, 0, 0, 0, 0, 0, 0, 0, 0, 0, 0, 0, 0, 0, 0, 0, 0, 0, 0, 0, 0, 0, 0, 0, 0, 0, 0, 0, 0, 0, 0, 0, 0, 0, 0, 0, 0, 0, 0, 0, 0, 0, 0, 0, 0, 0, 0]\n"
     ]
    }
   ],
   "source": [
    "# * 곱셈\n",
    "\n",
    "print(my_list * 2)\n",
    "print('a' * 5)\n",
    "\n",
    "# 0이 100개 있는 리스트를 만드려면?\n",
    "\n",
    "l_100 = [0] * 100\n",
    "print(l_100)"
   ]
  },
  {
   "cell_type": "code",
   "execution_count": 82,
   "id": "43692a63-61b2-47ea-8708-78776a0da3db",
   "metadata": {},
   "outputs": [
    {
     "name": "stdout",
     "output_type": "stream",
     "text": [
      "5\n"
     ]
    }
   ],
   "source": [
    "# 길이를 출력해주는 함수\n",
    "# len()\n",
    "\n",
    "print(len(my_list))"
   ]
  },
  {
   "cell_type": "code",
   "execution_count": 85,
   "id": "7aaf2c98-1a11-4c6a-8578-16bbe4b65242",
   "metadata": {},
   "outputs": [
    {
     "name": "stdout",
     "output_type": "stream",
     "text": [
      "e\n"
     ]
    }
   ],
   "source": [
    "# 최대값을 보여주는 함수\n",
    "# max()\n",
    "\n",
    "print(max(my_list)) # 문자의 경우에도 숫자로 변환하여 출력을 해준다(ASCII Code 참고)"
   ]
  },
  {
   "cell_type": "code",
   "execution_count": 88,
   "id": "e31e7a51-957f-4523-83ad-4620d6fe30a0",
   "metadata": {},
   "outputs": [
    {
     "name": "stdout",
     "output_type": "stream",
     "text": [
      "a\n"
     ]
    }
   ],
   "source": [
    "# 최소값을 보여주는 함수\n",
    "# min\n",
    "\n",
    "print(min(my_list))"
   ]
  },
  {
   "cell_type": "markdown",
   "id": "c397b9ee-db84-4580-a595-6abf07b5763b",
   "metadata": {},
   "source": [
    "## 5. 시퀀스형이 아닌 자료구조"
   ]
  },
  {
   "cell_type": "markdown",
   "id": "b42b1942-2d0f-45a5-849b-cc8c0740974f",
   "metadata": {},
   "source": [
    "### 5.1 set\n",
    "- 집합과 비슷한 개념\n",
    "\n",
    "- 선언 : var_name = {value_0, value_1, value_2, ...}"
   ]
  },
  {
   "cell_type": "code",
   "execution_count": 93,
   "id": "34c4287d-d826-449b-8e52-3eb01c312914",
   "metadata": {},
   "outputs": [],
   "source": [
    "my_set_a = {1, 2, 3, 4, 5, 5}\n",
    "my_set_b = {1, 3, 5, 7, 9}"
   ]
  },
  {
   "cell_type": "code",
   "execution_count": 95,
   "id": "8adbc061-5c13-4b63-afdd-230e4591cb2d",
   "metadata": {},
   "outputs": [
    {
     "name": "stdout",
     "output_type": "stream",
     "text": [
      "{1, 2, 3, 4, 5}\n",
      "{1, 3, 5, 7, 9}\n"
     ]
    }
   ],
   "source": [
    "print(my_set_a) # 중복이 되어도 한개만 보여줌\n",
    "print(my_set_b)"
   ]
  },
  {
   "cell_type": "code",
   "execution_count": 122,
   "id": "7cfb7a65-157d-4cf2-a1ec-9f5f68cfd7fc",
   "metadata": {},
   "outputs": [
    {
     "name": "stdout",
     "output_type": "stream",
     "text": [
      "{2, 4}\n",
      "{1, 2, 3, 4, 5, 7, 9}\n",
      "{1, 3, 5}\n"
     ]
    }
   ],
   "source": [
    "print(my_set_a - my_set_b) # my_set_a에서 my_set_b와 겹치는 숫자만 제거되고 my_set_a에 남아있는 데이터들을 보여줌\n",
    "print(my_set_a | my_set_b) # 합집합\n",
    "print(my_set_a & my_set_b) # 교집합"
   ]
  },
  {
   "cell_type": "code",
   "execution_count": 123,
   "id": "8a0698f9-ebde-4a65-a097-033ca03c4fa2",
   "metadata": {},
   "outputs": [
    {
     "name": "stdout",
     "output_type": "stream",
     "text": [
      "{'대구', '대전', '서울', '부산', '인천'}\n"
     ]
    }
   ],
   "source": [
    "location = ['서울', '대전', '대구', '인천', '부산', '서울', '대전', '대구', '인천', '부산', '서울', '대전', '대구', '인천', '부산']\n",
    "print(set(location))"
   ]
  },
  {
   "cell_type": "markdown",
   "id": "ef09e136-5386-4265-bdc1-021c7b92c7d4",
   "metadata": {},
   "source": [
    "### 5.2 dictionary\n",
    "- 선언 : `var_name = {key1: value1, ket2: value2, ...}` key와 value로 구성되어있다는 것이 set과 다름\n",
    "- 접근 : `var_name[key]`\n",
    "  **여러가지 데이터를 같이 저장할때 보통 사용한다**"
   ]
  },
  {
   "cell_type": "code",
   "execution_count": 128,
   "id": "a07ee7cc-e2f9-47f3-bb66-31f2b44c919e",
   "metadata": {},
   "outputs": [
    {
     "name": "stdout",
     "output_type": "stream",
     "text": [
      "{'서울': '02', '경기도': '031'}\n",
      "02\n"
     ]
    }
   ],
   "source": [
    "my_dict = {'서울': '02', '경기도': '031'}\n",
    "print(my_dict)\n",
    "print(my_dict['서울'])"
   ]
  },
  {
   "cell_type": "code",
   "execution_count": 132,
   "id": "276a4dfb-fc66-445a-938f-cff6c0cb4f15",
   "metadata": {},
   "outputs": [],
   "source": [
    "my_info = {\n",
    "    'name': 'jungseok',\n",
    "    'location': 'suwon',\n",
    "    'age': 26,\n",
    "    'skills': ['Python', 'SQL']\n",
    "}"
   ]
  },
  {
   "cell_type": "code",
   "execution_count": 135,
   "id": "76a9b959-a95c-408c-a2e4-60863506a50f",
   "metadata": {},
   "outputs": [
    {
     "name": "stdout",
     "output_type": "stream",
     "text": [
      "jungseok\n",
      "26\n",
      "SQL\n"
     ]
    }
   ],
   "source": [
    "print(my_info['name'])\n",
    "print(my_info['age'])\n",
    "print(my_info['skills'][1])"
   ]
  },
  {
   "cell_type": "code",
   "execution_count": null,
   "id": "badf1f95-ea9e-4231-9047-da5f04d9124f",
   "metadata": {},
   "outputs": [],
   "source": []
  }
 ],
 "metadata": {
  "kernelspec": {
   "display_name": "Python 3",
   "language": "python",
   "name": "python3"
  },
  "language_info": {
   "codemirror_mode": {
    "name": "ipython",
    "version": 3
   },
   "file_extension": ".py",
   "mimetype": "text/x-python",
   "name": "python",
   "nbconvert_exporter": "python",
   "pygments_lexer": "ipython3",
   "version": "3.13.2"
  }
 },
 "nbformat": 4,
 "nbformat_minor": 5
}
