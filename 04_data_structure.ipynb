{
 "cells": [
  {
   "cell_type": "markdown",
   "id": "5a8bdeb5-f236-497a-a810-251c2bc878a6",
   "metadata": {},
   "source": [
    "# 자료구조 \n",
    "> 여러가지 자료구조가 가지고있는 매소드(함수) 알아보기"
   ]
  },
  {
   "cell_type": "code",
   "execution_count": 6,
   "id": "20dcfb50-319f-41c3-8969-b65967048fae",
   "metadata": {},
   "outputs": [
    {
     "name": "stdout",
     "output_type": "stream",
     "text": [
      "['__add__', '__class__', '__contains__', '__delattr__', '__dir__', '__doc__', '__eq__', '__format__', '__ge__', '__getattribute__', '__getitem__', '__getnewargs__', '__getstate__', '__gt__', '__hash__', '__init__', '__init_subclass__', '__iter__', '__le__', '__len__', '__lt__', '__mod__', '__mul__', '__ne__', '__new__', '__reduce__', '__reduce_ex__', '__repr__', '__rmod__', '__rmul__', '__setattr__', '__sizeof__', '__str__', '__subclasshook__', 'capitalize', 'casefold', 'center', 'count', 'encode', 'endswith', 'expandtabs', 'find', 'format', 'format_map', 'index', 'isalnum', 'isalpha', 'isascii', 'isdecimal', 'isdigit', 'isidentifier', 'islower', 'isnumeric', 'isprintable', 'isspace', 'istitle', 'isupper', 'join', 'ljust', 'lower', 'lstrip', 'maketrans', 'partition', 'removeprefix', 'removesuffix', 'replace', 'rfind', 'rindex', 'rjust', 'rpartition', 'rsplit', 'rstrip', 'split', 'splitlines', 'startswith', 'strip', 'swapcase', 'title', 'translate', 'upper', 'zfill']\n"
     ]
    }
   ],
   "source": [
    "print(dir('hello'))\n",
    "### hello가 갖고 있는 기능들을 출력"
   ]
  },
  {
   "cell_type": "markdown",
   "id": "d4ce2f8d-b86b-478b-a5d1-16fb362e268d",
   "metadata": {},
   "source": [
    "### 문자열 매소드"
   ]
  },
  {
   "cell_type": "code",
   "execution_count": 7,
   "id": "0d8afb0b-eabb-4fff-a8c7-f99fe5e35c48",
   "metadata": {},
   "outputs": [],
   "source": [
    "a = 'hello my name is cho'"
   ]
  },
  {
   "cell_type": "code",
   "execution_count": 8,
   "id": "05c0b2c9-57df-48e8-bc28-4b7ede604002",
   "metadata": {},
   "outputs": [
    {
     "name": "stdout",
     "output_type": "stream",
     "text": [
      "hello my name is cho\n"
     ]
    }
   ],
   "source": [
    "print(a)"
   ]
  },
  {
   "cell_type": "code",
   "execution_count": 9,
   "id": "50871ee2-4b6b-40f9-8a9f-205c59200002",
   "metadata": {},
   "outputs": [
    {
     "ename": "TypeError",
     "evalue": "'str' object does not support item assignment",
     "output_type": "error",
     "traceback": [
      "\u001b[0;31m---------------------------------------------------------------------------\u001b[0m",
      "\u001b[0;31mTypeError\u001b[0m                                 Traceback (most recent call last)",
      "Cell \u001b[0;32mIn[9], line 1\u001b[0m\n\u001b[0;32m----> 1\u001b[0m \u001b[43ma\u001b[49m\u001b[43m[\u001b[49m\u001b[38;5;241;43m0\u001b[39;49m\u001b[43m]\u001b[49m \u001b[38;5;241m=\u001b[39m \u001b[38;5;124m'\u001b[39m\u001b[38;5;124mH\u001b[39m\u001b[38;5;124m'\u001b[39m\n\u001b[1;32m      2\u001b[0m \u001b[38;5;66;03m## string 자료구조는 Immutable하기 때문에 수정안됨\u001b[39;00m\n",
      "\u001b[0;31mTypeError\u001b[0m: 'str' object does not support item assignment"
     ]
    }
   ],
   "source": [
    "a[0] = 'H'\n",
    "## string 자료구조는 Immutable하기 때문에 수정안됨"
   ]
  },
  {
   "cell_type": "code",
   "execution_count": 10,
   "id": "988a6a52-ba61-4108-9ff0-3252204f4453",
   "metadata": {},
   "outputs": [
    {
     "data": {
      "text/plain": [
       "'Hello my name is cho'"
      ]
     },
     "execution_count": 10,
     "metadata": {},
     "output_type": "execute_result"
    }
   ],
   "source": [
    "a.capitalize()\n",
    "### a가 가지고 있는 함수(.~~~)를 실행시켜 주세요\n",
    "### capitalize() : 첫 글자만 대문자로 바꿔준다\n",
    "### data가 수정이 되는것이 아니라 단순 결과 출력값만 바뀌어 나오고 값은 원래 상태로 저장되어있다. 원본의 데이터 변경 X"
   ]
  },
  {
   "cell_type": "code",
   "execution_count": 11,
   "id": "3cad2fae-dcf4-4c2e-9886-34861427cd69",
   "metadata": {},
   "outputs": [
    {
     "data": {
      "text/plain": [
       "'hello my name is cho'"
      ]
     },
     "execution_count": 11,
     "metadata": {},
     "output_type": "execute_result"
    }
   ],
   "source": [
    "a"
   ]
  },
  {
   "cell_type": "code",
   "execution_count": 12,
   "id": "6076aadd-eed0-4dd0-a658-060ef8456904",
   "metadata": {},
   "outputs": [
    {
     "data": {
      "text/plain": [
       "'Hello My Name Is Cho'"
      ]
     },
     "execution_count": 12,
     "metadata": {},
     "output_type": "execute_result"
    }
   ],
   "source": [
    "a.title()\n",
    "### 각 단어의 첫 알파벳을 모두 대문자로 바꿔준다"
   ]
  },
  {
   "cell_type": "code",
   "execution_count": 13,
   "id": "48563b14-d513-4a25-8528-676f8f6923e5",
   "metadata": {},
   "outputs": [
    {
     "data": {
      "text/plain": [
       "'hello my name is cho'"
      ]
     },
     "execution_count": 13,
     "metadata": {},
     "output_type": "execute_result"
    }
   ],
   "source": [
    "a.lower()\n",
    "### 모든 글자를 소문자로 만들어준다"
   ]
  },
  {
   "cell_type": "code",
   "execution_count": 14,
   "id": "65397243-5b8a-4eb2-a91c-3314d9c7bd2c",
   "metadata": {},
   "outputs": [
    {
     "data": {
      "text/plain": [
       "'HELLO MY NAME IS CHO'"
      ]
     },
     "execution_count": 14,
     "metadata": {},
     "output_type": "execute_result"
    }
   ],
   "source": [
    "a.upper()\n",
    "### 모든 글자를 대문자로 만들어준다"
   ]
  },
  {
   "cell_type": "code",
   "execution_count": 15,
   "id": "615a56d3-9ce2-4bde-a885-8e20b23a5ab8",
   "metadata": {},
   "outputs": [
    {
     "data": {
      "text/plain": [
       "'my!name!is'"
      ]
     },
     "execution_count": 15,
     "metadata": {},
     "output_type": "execute_result"
    }
   ],
   "source": [
    "my_list = ['my', 'name', 'is']\n",
    "\n",
    "'!'.join(my_list)\n",
    "### join(): 합치는 함수"
   ]
  },
  {
   "cell_type": "code",
   "execution_count": 16,
   "id": "bdaf17b8-9dd2-4b10-a815-8667a7dba881",
   "metadata": {},
   "outputs": [
    {
     "data": {
      "text/plain": [
       "'배?고?프?다'"
      ]
     },
     "execution_count": 16,
     "metadata": {},
     "output_type": "execute_result"
    }
   ],
   "source": [
    "'?'.join('배고프다')"
   ]
  },
  {
   "cell_type": "code",
   "execution_count": 17,
   "id": "ecbcfb08-ce9a-4038-ab34-109beefab884",
   "metadata": {},
   "outputs": [
    {
     "name": "stdout",
     "output_type": "stream",
     "text": [
      "         \t       hello                \n",
      "\n"
     ]
    }
   ],
   "source": [
    "a = '         \\t       hello                \\n'\n",
    "print(a)"
   ]
  },
  {
   "cell_type": "code",
   "execution_count": 18,
   "id": "e0ebe5cd-d088-4ce5-aa78-ef595e98a2ee",
   "metadata": {},
   "outputs": [
    {
     "data": {
      "text/plain": [
       "39"
      ]
     },
     "execution_count": 18,
     "metadata": {},
     "output_type": "execute_result"
    }
   ],
   "source": [
    "len(a)\n",
    "### 띄어쓰기 1개도 다 글자로 인식"
   ]
  },
  {
   "cell_type": "code",
   "execution_count": 19,
   "id": "77618a4f-1030-4fa3-8b77-00d20c92a0c8",
   "metadata": {},
   "outputs": [
    {
     "data": {
      "text/plain": [
       "'hello'"
      ]
     },
     "execution_count": 19,
     "metadata": {},
     "output_type": "execute_result"
    }
   ],
   "source": [
    "a.strip()\n",
    "### 띄어쓰기, 줄바꿈, 들여쓰기 모두 무시하고 글자만 보여줌"
   ]
  },
  {
   "cell_type": "code",
   "execution_count": 20,
   "id": "6a08bc67-6825-4072-8662-fc48a2ea10ef",
   "metadata": {},
   "outputs": [
    {
     "data": {
      "text/plain": [
       "'Hello????????'"
      ]
     },
     "execution_count": 20,
     "metadata": {},
     "output_type": "execute_result"
    }
   ],
   "source": [
    "a = '!!!!!Hello????????'\n",
    "a.strip('!')\n",
    "###()안에 들어온 문자를 다 지운다 / 빈칸일 경우 띄어쓰기만 지운다 strip(char = ' ')"
   ]
  },
  {
   "cell_type": "code",
   "execution_count": 21,
   "id": "320b386d-c0e6-4c08-82d4-72791ad73399",
   "metadata": {},
   "outputs": [
    {
     "data": {
      "text/plain": [
       "'hello----------'"
      ]
     },
     "execution_count": 21,
     "metadata": {},
     "output_type": "execute_result"
    }
   ],
   "source": [
    "a = '---------hello----------'\n",
    "a.lstrip('-')\n",
    "### 글자 기준 왼쪽만 지운다 / rstrip() : 오른쪽만 지운다"
   ]
  },
  {
   "cell_type": "code",
   "execution_count": 22,
   "id": "6ebb63db-c351-4114-9e4c-76ce03f87243",
   "metadata": {},
   "outputs": [
    {
     "data": {
      "text/plain": [
       "'w!!!oooooooow'"
      ]
     },
     "execution_count": 22,
     "metadata": {},
     "output_type": "execute_result"
    }
   ],
   "source": [
    "a = 'wooooooooooow'\n",
    "a.replace('o', '!', 3)\n",
    "###replace(뭐를(대상), 뭐로(바꿀 값), 앞에서부터 몇번 할 것인가)"
   ]
  },
  {
   "cell_type": "code",
   "execution_count": 23,
   "id": "6b2a43ee-b61d-4917-aee2-09b44e8d4b3b",
   "metadata": {},
   "outputs": [
    {
     "data": {
      "text/plain": [
       "-1"
      ]
     },
     "execution_count": 23,
     "metadata": {},
     "output_type": "execute_result"
    }
   ],
   "source": [
    "a = 'apple'\n",
    "a.find('a')\n",
    "a.find('l')\n",
    "a.find('p') # 똑같은 값이 있다면 먼저 나온 값의 인덱스를 알려준다\n",
    "a.find('z') # 값이 없을 경우 -1을 출력한다\n",
    "### find(): 인덱스 번호를 출력해준다"
   ]
  },
  {
   "cell_type": "code",
   "execution_count": 24,
   "id": "54ba3e37-7d4c-4268-879e-bdd4d7b6abc6",
   "metadata": {},
   "outputs": [
    {
     "ename": "ValueError",
     "evalue": "substring not found",
     "output_type": "error",
     "traceback": [
      "\u001b[0;31m---------------------------------------------------------------------------\u001b[0m",
      "\u001b[0;31mValueError\u001b[0m                                Traceback (most recent call last)",
      "Cell \u001b[0;32mIn[24], line 4\u001b[0m\n\u001b[1;32m      2\u001b[0m a\u001b[38;5;241m.\u001b[39mindex(\u001b[38;5;124m'\u001b[39m\u001b[38;5;124ml\u001b[39m\u001b[38;5;124m'\u001b[39m)\n\u001b[1;32m      3\u001b[0m a\u001b[38;5;241m.\u001b[39mindex(\u001b[38;5;124m'\u001b[39m\u001b[38;5;124mp\u001b[39m\u001b[38;5;124m'\u001b[39m)\n\u001b[0;32m----> 4\u001b[0m \u001b[43ma\u001b[49m\u001b[38;5;241;43m.\u001b[39;49m\u001b[43mindex\u001b[49m\u001b[43m(\u001b[49m\u001b[38;5;124;43m'\u001b[39;49m\u001b[38;5;124;43mz\u001b[39;49m\u001b[38;5;124;43m'\u001b[39;49m\u001b[43m)\u001b[49m\n\u001b[1;32m      5\u001b[0m \u001b[38;5;66;03m### index()는 find()와 같은 기능을 하지만 없는 데이터를 찾으려고 하면 error가 난다\u001b[39;00m\n",
      "\u001b[0;31mValueError\u001b[0m: substring not found"
     ]
    }
   ],
   "source": [
    "a.index('a')\n",
    "a.index('l')\n",
    "a.index('p')\n",
    "a.index('z')\n",
    "### index()는 find()와 같은 기능을 하지만 없는 데이터를 찾으려고 하면 error가 난다"
   ]
  },
  {
   "cell_type": "code",
   "execution_count": 25,
   "id": "66b712b2-a685-45c7-a473-ed7fd04af1bb",
   "metadata": {},
   "outputs": [
    {
     "data": {
      "text/plain": [
       "['my', 'name', 'is', 'cho']"
      ]
     },
     "execution_count": 25,
     "metadata": {},
     "output_type": "execute_result"
    }
   ],
   "source": [
    "a = 'my name is cho'\n",
    "\n",
    "a.split()\n",
    "### split(): 데이터를 띄어쓰기를 기준으로 자른다음 결과를 리스트로 만들어서 반환시켜준다"
   ]
  },
  {
   "cell_type": "code",
   "execution_count": 26,
   "id": "c000bec4-34af-4d6f-a14f-3ea44d29ea48",
   "metadata": {},
   "outputs": [
    {
     "data": {
      "text/plain": [
       "['my', 'name', 'is', 'cho']"
      ]
     },
     "execution_count": 26,
     "metadata": {},
     "output_type": "execute_result"
    }
   ],
   "source": [
    "a = 'my!name!is!cho'\n",
    "a.split('!')\n",
    "### ()안에 자르고자 하는 기준을 넣어주면 된다"
   ]
  },
  {
   "cell_type": "code",
   "execution_count": 27,
   "id": "166185df-3707-4272-87bb-15c1d941c169",
   "metadata": {},
   "outputs": [
    {
     "data": {
      "text/plain": [
       "6"
      ]
     },
     "execution_count": 27,
     "metadata": {},
     "output_type": "execute_result"
    }
   ],
   "source": [
    "a = 'woooooow'\n",
    "a.count('o')\n",
    "### count(): 몇개가 있는지 찾아줌/ ()안에는 찾고자 하는 인자를 입력해주면된다"
   ]
  },
  {
   "cell_type": "markdown",
   "id": "e52d8b25-eec7-4464-98c3-7571a3abd1c7",
   "metadata": {},
   "source": [
    "### 리스트 메소드"
   ]
  },
  {
   "cell_type": "code",
   "execution_count": 1,
   "id": "ec3988b7-062b-47d5-b517-bced183e60b5",
   "metadata": {},
   "outputs": [],
   "source": [
    "numbers = [2, 3, 4, 5, 6, 7, 6, 4, 3,1]"
   ]
  },
  {
   "cell_type": "code",
   "execution_count": 29,
   "id": "b8899836-659c-476a-845d-87db1a4ac800",
   "metadata": {},
   "outputs": [
    {
     "name": "stdout",
     "output_type": "stream",
     "text": [
      "[2, 3, 4, 5, 6, 7, 6, 4, 3, 1, 8]\n"
     ]
    }
   ],
   "source": [
    "numbers.append(8)\n",
    "### 리스트 뒤에 값을 추가 할 때 사용\n",
    "print(numbers)"
   ]
  },
  {
   "cell_type": "code",
   "execution_count": 30,
   "id": "25a253d2-8bda-461e-9b66-207e570da360",
   "metadata": {},
   "outputs": [],
   "source": [
    "a = [99, 100]"
   ]
  },
  {
   "cell_type": "code",
   "execution_count": 31,
   "id": "34c5ad21-e386-4298-b987-03af47456ae2",
   "metadata": {},
   "outputs": [
    {
     "name": "stdout",
     "output_type": "stream",
     "text": [
      "[2, 3, 4, 5, 6, 7, 6, 4, 3, 1, 8, 99, 100]\n"
     ]
    }
   ],
   "source": [
    "numbers.extend(a) ### +랑 같다고 봐도 무방 / append는 하나만 이어 붙치지만 extend는 여러개를 넣을 수 있음\n",
    "print(numbers)"
   ]
  },
  {
   "cell_type": "code",
   "execution_count": 32,
   "id": "3b6b065a-ae40-4a38-a697-655ef94d1605",
   "metadata": {},
   "outputs": [
    {
     "name": "stdout",
     "output_type": "stream",
     "text": [
      "[2, 3, 4, 55, 5, 6, 7, 6, 4, 3, 1, 8, 99, 100]\n"
     ]
    }
   ],
   "source": [
    "numbers.insert(3, 55) ### 위치를 지정해서 넣어야 한다. insert(넣고자 하는 위치의 Index, 넣고자 하는 값) 지정한 값이 범위를 넘어가면 제일 마지막에 넣어진다\n",
    "print(numbers)"
   ]
  },
  {
   "cell_type": "code",
   "execution_count": 33,
   "id": "d1959ea1-b471-4832-9e98-e0aa97d14324",
   "metadata": {},
   "outputs": [
    {
     "name": "stdout",
     "output_type": "stream",
     "text": [
      "[2, 3, 4, 5, 6, 7, 6, 4, 3, 1, 8, 99, 100]\n"
     ]
    }
   ],
   "source": [
    "numbers.remove(55) ### ()안의 값을 지워주는데 여러개가 존재 할 경우 앞에서부터 한개씩 지운다 / 없으면 에러\n",
    "print(numbers)"
   ]
  },
  {
   "cell_type": "markdown",
   "id": "4ff12e45-ad4f-4811-bd3c-d9286b65c41f",
   "metadata": {},
   "source": [
    "## Stack과 Queue\n",
    "\n",
    "**Stack**\n",
    "- First In Last Out\n",
    "\n",
    "**Queue**\n",
    "- First In First Out"
   ]
  },
  {
   "cell_type": "code",
   "execution_count": 34,
   "id": "8745de4b-19e4-4507-bba0-66d21bdcd9bc",
   "metadata": {},
   "outputs": [
    {
     "name": "stdout",
     "output_type": "stream",
     "text": [
      "[3, 4, 5, 6, 7, 6, 4, 3, 1, 8, 99, 100]\n"
     ]
    }
   ],
   "source": [
    "### Queue\n",
    "numbers.pop(0)\n",
    "print(numbers)"
   ]
  },
  {
   "cell_type": "code",
   "execution_count": 35,
   "id": "4ceb5984-c66f-4ef0-942d-48a8218554d8",
   "metadata": {},
   "outputs": [
    {
     "name": "stdout",
     "output_type": "stream",
     "text": [
      "[3, 4, 5, 6, 7, 6, 4, 3, 1, 8, 99]\n"
     ]
    }
   ],
   "source": [
    "### Stack\n",
    "numbers.pop() ### 맨 뒤에있는 데이터를 제거한다\n",
    "print(numbers)"
   ]
  },
  {
   "cell_type": "code",
   "execution_count": 2,
   "id": "3627827a-84f3-420f-b020-d263140fa6d4",
   "metadata": {},
   "outputs": [
    {
     "name": "stdout",
     "output_type": "stream",
     "text": [
      "[1, 2, 3, 3, 4, 4, 5, 6, 6, 7]\n"
     ]
    }
   ],
   "source": [
    "### 데이터 정렬(기본: 오름차순)\n",
    "numbers.sort()\n",
    "print(numbers)"
   ]
  },
  {
   "cell_type": "code",
   "execution_count": 37,
   "id": "d609948e-5329-4f48-af44-70ca437a591a",
   "metadata": {},
   "outputs": [
    {
     "name": "stdout",
     "output_type": "stream",
     "text": [
      "[99, 8, 7, 6, 6, 5, 4, 4, 3, 3, 1]\n"
     ]
    }
   ],
   "source": [
    "### 데이터 정렬(내림차순)\n",
    "numbers.sort(reverse=True)\n",
    "print(numbers)"
   ]
  },
  {
   "cell_type": "markdown",
   "id": "0ad62155-a339-4bfd-ba4b-607b07125850",
   "metadata": {},
   "source": [
    "#### sorted()\n",
    "- python 자체에 구현되어있는 함수\n",
    "- sort()와 다르게 원본이 바뀌지 않고 결과 값만 보여준다"
   ]
  },
  {
   "cell_type": "code",
   "execution_count": 38,
   "id": "14844d0e-cf1a-46ae-9ec0-9d48e44fe017",
   "metadata": {},
   "outputs": [
    {
     "name": "stdout",
     "output_type": "stream",
     "text": [
      "[1, 2, 2, 3, 3, 4, 4, 6, 12]\n",
      "[1, 2, 3, 4, 2, 12, 4, 6, 3]\n"
     ]
    }
   ],
   "source": [
    "a = [1,2,3,4,2,12,4,6,3]\n",
    "\n",
    "print(sorted(a))\n",
    "print(a)"
   ]
  },
  {
   "cell_type": "code",
   "execution_count": 39,
   "id": "61ff6b48-5384-49b2-99af-2b79839292cc",
   "metadata": {},
   "outputs": [
    {
     "name": "stdout",
     "output_type": "stream",
     "text": [
      "['a', 'a', 'ㅊ', '가', '바', '타']\n"
     ]
    }
   ],
   "source": [
    "### 글자도 정렬이 가능하다(영어, 한글 둘다 가능 - 다만 같이 있으면 영어가 먼저)\n",
    "my_list = ['a', '바', '타', '가', 'a', 'ㅊ']\n",
    "my_list.sort()\n",
    "print(my_list)"
   ]
  },
  {
   "cell_type": "code",
   "execution_count": 58,
   "id": "814669a8-bba9-462e-922f-488fdaade0a8",
   "metadata": {},
   "outputs": [
    {
     "name": "stdout",
     "output_type": "stream",
     "text": [
      "[1, 3, 5, 7, 3, 1, 4, 6]\n",
      "[6, 4, 1, 3, 7, 5, 3, 1]\n"
     ]
    }
   ],
   "source": [
    "numbers = [1,3,5,7,3,1,4,6]\n",
    "print(numbers)\n",
    "numbers.reverse() ## 각 값의 크기와 상관 없이 순서를 뒤집는다. + 값도 바뀐것을 저장\n",
    "print(numbers)\n"
   ]
  },
  {
   "cell_type": "code",
   "execution_count": 41,
   "id": "0ddb816a-cd77-4bd8-87d8-cddabf5937fb",
   "metadata": {},
   "outputs": [
    {
     "data": {
      "text/plain": [
       "2"
      ]
     },
     "execution_count": 41,
     "metadata": {},
     "output_type": "execute_result"
    }
   ],
   "source": [
    "### 해당 리스트 안에 ()안의 값이 몇개가 있는가?\n",
    "my_list.count('a')"
   ]
  },
  {
   "cell_type": "markdown",
   "id": "6a307927-30c7-40d7-ab80-f2a85d4ab862",
   "metadata": {},
   "source": [
    "## list copy"
   ]
  },
  {
   "cell_type": "code",
   "execution_count": 42,
   "id": "4c97f2bc-dfad-454d-b569-7334941ae7b8",
   "metadata": {},
   "outputs": [],
   "source": [
    "origin_list = [1300, 20000, 300000]\n",
    "copy_list = origin_list"
   ]
  },
  {
   "cell_type": "code",
   "execution_count": 43,
   "id": "92f7c86a-7da8-46aa-bafa-8128ed8285a3",
   "metadata": {},
   "outputs": [
    {
     "name": "stdout",
     "output_type": "stream",
     "text": [
      "[1300, 20000, 300000]\n",
      "[1300, 20000, 300000]\n"
     ]
    }
   ],
   "source": [
    "print(origin_list)\n",
    "print(copy_list)"
   ]
  },
  {
   "cell_type": "code",
   "execution_count": 44,
   "id": "a856c3ec-bdc9-406e-90fd-244891b17a1a",
   "metadata": {},
   "outputs": [
    {
     "name": "stdout",
     "output_type": "stream",
     "text": [
      "[100, 20000, 300000]\n",
      "[100, 20000, 300000]\n"
     ]
    }
   ],
   "source": [
    "### '='을 활용하여 같은 리스트을 할당한 뒤 복제한 변수의 리스트 값을 수정하면 원본의 값도 같이 바뀌게 된다 / 그냥 = 을 사용하여 넣는경우 값을 또 할당하는 것이아니라 같은 값을 가리키고 있기 때문\n",
    "copy_list[0] = 100\n",
    "print(origin_list)\n",
    "print(copy_list)"
   ]
  },
  {
   "cell_type": "code",
   "execution_count": 45,
   "id": "f94ca0ad-db2f-4092-879a-9302c54b19c9",
   "metadata": {},
   "outputs": [
    {
     "name": "stdout",
     "output_type": "stream",
     "text": [
      "[1, 2, 3]\n",
      "[100, 2, 3]\n"
     ]
    }
   ],
   "source": [
    "origin_list = [1, 2, 3]\n",
    "copy_list = origin_list[:] ## 슬라이싱 진행한 값 자체를 넣어주기 때문에 copy_list를 변경해도 원본은 바뀌지 않는다\n",
    "\n",
    "copy_list[0] = 100\n",
    "\n",
    "print(origin_list)\n",
    "print(copy_list)"
   ]
  },
  {
   "cell_type": "code",
   "execution_count": 46,
   "id": "271d3dd2-89b7-4aeb-a5ee-705b88360b57",
   "metadata": {},
   "outputs": [
    {
     "name": "stdout",
     "output_type": "stream",
     "text": [
      "[1, 2, [-10, 11]]\n",
      "[100, 2, [-10, 11]]\n"
     ]
    }
   ],
   "source": [
    "o_l = [1, 2, [10, 11]]\n",
    "c_l = o_l[:]\n",
    "\n",
    "c_l[0] = 100\n",
    "c_l[2][0] = -10 # list 안에 List의 경우 슬라이싱을 하더라도 같은 값을 가리키고 있기 때문에 값이 바뀐다\n",
    "\n",
    "print(o_l)\n",
    "print(c_l)"
   ]
  },
  {
   "cell_type": "code",
   "execution_count": 47,
   "id": "69603040-21ba-48c9-a43b-4d5889609007",
   "metadata": {},
   "outputs": [
    {
     "name": "stdout",
     "output_type": "stream",
     "text": [
      "[1, 2, [10, 11]]\n",
      "[100, 2, [10, -11]]\n"
     ]
    }
   ],
   "source": [
    "import copy\n",
    "\n",
    "origin_list = [1, 2, [10, 11]]\n",
    "copy_list = copy.deepcopy(origin_list) ### deepcopy()를 사용하면 리스트 안의 리스트까지 모두다 복제가 되어 분리가 되기 때문에 수정을 해도 원본은 바뀌지 않는다\n",
    "\n",
    "copy_list[0] = 100\n",
    "copy_list[2][1] = -11\n",
    "\n",
    "print(origin_list)\n",
    "print(copy_list)"
   ]
  },
  {
   "cell_type": "markdown",
   "id": "14c84281-8350-4ff3-b12f-bdf0cf580baf",
   "metadata": {},
   "source": [
    "## list comprehension"
   ]
  },
  {
   "cell_type": "code",
   "execution_count": 48,
   "id": "3d27283a-d512-42d1-b060-8b4e0dd49590",
   "metadata": {},
   "outputs": [
    {
     "name": "stdout",
     "output_type": "stream",
     "text": [
      "[1, 2, 3, 4, 5, 6, 7, 8, 9, 10]\n"
     ]
    }
   ],
   "source": [
    "numbers = list(range(1,11))\n",
    "print(numbers)"
   ]
  },
  {
   "cell_type": "code",
   "execution_count": 49,
   "id": "d06a4018-df18-4019-8705-c355a735e104",
   "metadata": {},
   "outputs": [
    {
     "name": "stdout",
     "output_type": "stream",
     "text": [
      "[1, 8, 27, 64, 125, 216, 343, 512, 729, 1000]\n"
     ]
    }
   ],
   "source": [
    "result = []\n",
    "\n",
    "for number in numbers:\n",
    "    temp = number ** 3\n",
    "    result.append(temp)\n",
    "\n",
    "print(result)"
   ]
  },
  {
   "cell_type": "code",
   "execution_count": 50,
   "id": "ac02b4ab-6fa6-4173-b838-bae0cc43c485",
   "metadata": {},
   "outputs": [
    {
     "name": "stdout",
     "output_type": "stream",
     "text": [
      "[1, 8, 27, 64, 125, 216, 343, 512, 729, 1000]\n"
     ]
    }
   ],
   "source": [
    "result = [number ** 3 for number in numbers]\n",
    "print(result)"
   ]
  },
  {
   "cell_type": "code",
   "execution_count": 51,
   "id": "90806d00-9b89-4689-9713-25af4ed9e54d",
   "metadata": {},
   "outputs": [
    {
     "name": "stdout",
     "output_type": "stream",
     "text": [
      "[1, 2, 3, 4, 5, 6, 7, 8, 9, 10, 11, 12, 13, 14, 15, 16, 17, 18, 19, 20, 21, 22, 23, 24, 25, 26, 27, 28, 29, 30]\n",
      "[2, 4, 6, 8, 10, 12, 14, 16, 18, 20, 22, 24, 26, 28, 30]\n"
     ]
    }
   ],
   "source": [
    "### 짝수만 고르기\n",
    "\n",
    "numbers = list(range(1, 31))\n",
    "print(numbers)\n",
    "\n",
    "result = []\n",
    "\n",
    "for number in numbers:\n",
    "    if number % 2 == 0:\n",
    "        result.append(number)\n",
    "\n",
    "print(result)"
   ]
  },
  {
   "cell_type": "code",
   "execution_count": 52,
   "id": "acbe9379-54c4-4976-a23c-21f8d00eed19",
   "metadata": {},
   "outputs": [
    {
     "name": "stdout",
     "output_type": "stream",
     "text": [
      "[1, 2, 3, 4, 5, 6, 7, 8, 9, 10, 11, 12, 13, 14, 15, 16, 17, 18, 19, 20, 21, 22, 23, 24, 25, 26, 27, 28, 29, 30]\n",
      "[4, 8, 12, 16, 20, 24, 28, 32, 36, 40, 44, 48, 52, 56, 60]\n"
     ]
    }
   ],
   "source": [
    "### 짝수만 고르기\n",
    "\n",
    "numbers = list(range(1, 31))\n",
    "print(numbers)\n",
    "\n",
    "result = [number * 2 for number in numbers if number % 2 == 0]\n",
    "\n",
    "print(result)"
   ]
  },
  {
   "cell_type": "code",
   "execution_count": 53,
   "id": "2a7d149e-894e-4292-bac1-aff01267ecf0",
   "metadata": {},
   "outputs": [
    {
     "name": "stdout",
     "output_type": "stream",
     "text": [
      "m\n",
      "y\n",
      " \n",
      "n\n",
      "a\n",
      "m\n",
      "e\n",
      " \n",
      "i\n",
      "s\n",
      " \n",
      "j\n",
      "u\n",
      "n\n",
      "g\n",
      "my nm s jng\n"
     ]
    }
   ],
   "source": [
    "### 연습문제 - 모음(a, e, i, o, u)제거\n",
    "\n",
    "words = 'my name is jung'\n",
    "\n",
    "# => my nm s jng'\n",
    "# 1. for / if\n",
    "result = ''\n",
    "Vowel = ['a', 'e', 'i', 'o', 'u']\n",
    "\n",
    "for word in words:\n",
    "    print(word)\n",
    "    if word not in Vowel:\n",
    "        result += word\n",
    "\n",
    "print(result)"
   ]
  },
  {
   "cell_type": "code",
   "execution_count": 54,
   "id": "53468e8a-a9a3-4505-b5ae-31f116fc40e3",
   "metadata": {},
   "outputs": [
    {
     "name": "stdout",
     "output_type": "stream",
     "text": [
      "['m', 'y', ' ', 'n', 'm', ' ', 's', ' ', 'j', 'n', 'g']\n",
      "my nm s jng\n"
     ]
    }
   ],
   "source": [
    "# 2. List comprehension\n",
    "result = [word for word in words if word not in Vowel]\n",
    "\n",
    "print(result)\n",
    "print(''.join(result))"
   ]
  },
  {
   "cell_type": "code",
   "execution_count": 55,
   "id": "be5d1637-92e9-469c-9c25-9cf870872b85",
   "metadata": {},
   "outputs": [
    {
     "name": "stdout",
     "output_type": "stream",
     "text": [
      "my nm s jng\n"
     ]
    }
   ],
   "source": [
    "# 3. replace 메소드\n",
    "Vowel = ['a', 'e', 'i', 'o', 'u']\n",
    "\n",
    "for word in Vowel:\n",
    "    words = words.replace(word,'') # 원본이 직접적으로 수정이 되지는 않는다\n",
    "\n",
    "print(words)\n",
    "    "
   ]
  },
  {
   "cell_type": "markdown",
   "id": "67b88bbe",
   "metadata": {},
   "source": [
    "### dictionary 메소드\n",
    "\n",
    "- 다양한 형태의 데이터가 들어갈 수 있다(딕셔너리 안에 딕셔너리, 리스트 , 등등)"
   ]
  },
  {
   "cell_type": "code",
   "execution_count": 4,
   "id": "0e44345a-36cf-4bd1-81b9-1d63e98a68f7",
   "metadata": {},
   "outputs": [],
   "source": [
    "info = {\n",
    "    'name': 'jungseok',\n",
    "    'location': 'Suwon',\n",
    "    'age': '26',\n",
    "    'phone_book': {\n",
    "        'kim': '010-1234-5678',\n",
    "        'park': '010-9012-3456'\n",
    "    },\n",
    "    'models': ['iphone', 'ipad']\n",
    "\n",
    "}"
   ]
  },
  {
   "cell_type": "code",
   "execution_count": 9,
   "id": "51a7229a",
   "metadata": {},
   "outputs": [
    {
     "name": "stdout",
     "output_type": "stream",
     "text": [
      "jungseok\n",
      "26\n",
      "{'kim': '010-1234-5678', 'park': '010-9012-3456'} ['park']\n",
      "ipad\n"
     ]
    }
   ],
   "source": [
    "print(info['name'])\n",
    "print(info['age'])\n",
    "print(info['phone_book'], ['park'])\n",
    "print(info['models'][1])"
   ]
  },
  {
   "cell_type": "code",
   "execution_count": 11,
   "id": "55a2edc8",
   "metadata": {},
   "outputs": [
    {
     "name": "stdout",
     "output_type": "stream",
     "text": [
      "{'name': 'shinwon', 'location': 'Suwon', 'age': '26', 'phone_book': {'kim': '010-1234-5678', 'park': '010-9012-3456'}, 'models': ['iphone', 'ipad']}\n"
     ]
    }
   ],
   "source": [
    "info['name'] = 'shinwon'\n",
    "\n",
    "print(info)"
   ]
  },
  {
   "cell_type": "code",
   "execution_count": 12,
   "id": "920749a5",
   "metadata": {},
   "outputs": [
    {
     "name": "stdout",
     "output_type": "stream",
     "text": [
      "{'name': 'jungseok', 'location': 'Suwon', 'age': '26', 'phone_book': {'kim': '010-1234-5678', 'park': '010-9012-3456'}, 'models': ['iphone', 'ipad']}\n"
     ]
    }
   ],
   "source": [
    "### update(): 특정한 Key에 값을 어떤것으로 바꿀것인가 지정\n",
    "\n",
    "info.update(name='jungseok')\n",
    "\n",
    "print(info)"
   ]
  },
  {
   "cell_type": "code",
   "execution_count": 13,
   "id": "34e0b5f2",
   "metadata": {},
   "outputs": [
    {
     "name": "stdout",
     "output_type": "stream",
     "text": [
      "{'name': 'jungseok', 'age': '26', 'phone_book': {'kim': '010-1234-5678', 'park': '010-9012-3456'}, 'models': ['iphone', 'ipad']}\n"
     ]
    }
   ],
   "source": [
    "### pop(키 값): ()안에 지정한 Key값을 제거 할 때 사용\n",
    "\n",
    "info.pop('location')\n",
    "print(info)"
   ]
  },
  {
   "cell_type": "code",
   "execution_count": 15,
   "id": "f2f50a32",
   "metadata": {},
   "outputs": [
    {
     "name": "stdout",
     "output_type": "stream",
     "text": [
      "jungseok\n",
      "{'name': 'jungseok', 'age': '26', 'phone_book': {'kim': '010-1234-5678', 'park': '010-9012-3456'}, 'models': ['iphone', 'ipad']}\n",
      "None\n"
     ]
    }
   ],
   "source": [
    "### get(key): 가져오고자 하는 key값을 가져온다\n",
    "print(info.get('name'))\n",
    "print(info)\n",
    "\n",
    "\n",
    "### 단 get()은 없는 값을 가져오려고 하면 none이 나온다\n",
    "print(info.get('year'))"
   ]
  },
  {
   "cell_type": "code",
   "execution_count": 16,
   "id": "e44b4d3f",
   "metadata": {},
   "outputs": [
    {
     "ename": "KeyError",
     "evalue": "'year'",
     "output_type": "error",
     "traceback": [
      "\u001b[0;31m---------------------------------------------------------------------------\u001b[0m",
      "\u001b[0;31mKeyError\u001b[0m                                  Traceback (most recent call last)",
      "Cell \u001b[0;32mIn[16], line 3\u001b[0m\n\u001b[1;32m      1\u001b[0m \u001b[38;5;66;03m### 아래의 방식은 get처럼 없는 값을 가져오지만 에러가 발생\u001b[39;00m\n\u001b[0;32m----> 3\u001b[0m \u001b[43minfo\u001b[49m\u001b[43m[\u001b[49m\u001b[38;5;124;43m'\u001b[39;49m\u001b[38;5;124;43myear\u001b[39;49m\u001b[38;5;124;43m'\u001b[39;49m\u001b[43m]\u001b[49m\n",
      "\u001b[0;31mKeyError\u001b[0m: 'year'"
     ]
    }
   ],
   "source": [
    "### 아래의 방식은 get처럼 없는 값을 가져오지만 에러가 발생\n",
    "\n",
    "info['year']"
   ]
  },
  {
   "cell_type": "code",
   "execution_count": null,
   "id": "741ce840",
   "metadata": {},
   "outputs": [
    {
     "name": "stdout",
     "output_type": "stream",
     "text": [
      "{'A': 1, 'B': 2, 'AB': 2, 'O': 1}\n"
     ]
    }
   ],
   "source": [
    "## 연습문제\n",
    "# {'A': 1, 'B': 2, 'AB': 2, 'O': 1}\n",
    "blood_type = ['A', 'B', 'AB', 'O', 'AB', 'B']\n",
    "\n",
    "blodd_type_count = {'A': blood_type.count('A'),\n",
    "                   'B': blood_type.count('B'),\n",
    "                   'AB': blood_type.count('AB'),\n",
    "                   'O': blood_type.count('O'),}\n",
    "\n",
    "print(blodd_type_count)"
   ]
  },
  {
   "cell_type": "code",
   "execution_count": 40,
   "id": "31cf9e91",
   "metadata": {},
   "outputs": [
    {
     "name": "stdout",
     "output_type": "stream",
     "text": [
      "{'A': 1, 'B': 2, 'AB': 2, 'O': 1}\n"
     ]
    }
   ],
   "source": [
    "blood_type = ['A', 'B', 'AB', 'O', 'AB', 'B']\n",
    "\n",
    "result = {\n",
    "    'A': 0,\n",
    "    'B': 0,\n",
    "    'AB': 0,\n",
    "    'O': 0,\n",
    "}\n",
    "\n",
    "for blood in blood_type:\n",
    "    result[blood] += 1\n",
    "print(result)"
   ]
  },
  {
   "cell_type": "code",
   "execution_count": null,
   "id": "32324fde",
   "metadata": {},
   "outputs": [
    {
     "name": "stdout",
     "output_type": "stream",
     "text": [
      "{'서울': 1, '대전': 2, '부산': 1, '대구': 1, '울산': 2, '광주': 1}\n"
     ]
    }
   ],
   "source": [
    "## 연습문제\n",
    "locations = ['서울', '대전', '부산', '대전', '대구', '울산', '광주', '울산']\n",
    "result = {}\n",
    "\n",
    "for location in locations:\n",
    "    if location in result.keys():\n",
    "    #if result.get(location):\n",
    "        result[location] += 1\n",
    "    else:\n",
    "        result[location] = 1\n",
    "\n",
    "\n",
    "print(result)"
   ]
  },
  {
   "cell_type": "markdown",
   "id": "85dab10f",
   "metadata": {},
   "source": [
    "### dict comprehension"
   ]
  },
  {
   "cell_type": "code",
   "execution_count": 44,
   "id": "cc906715",
   "metadata": {},
   "outputs": [
    {
     "name": "stdout",
     "output_type": "stream",
     "text": [
      "{1: 1, 2: 8, 3: 27, 4: 64, 5: 125, 6: 216, 7: 343, 8: 512, 9: 729, 10: 1000}\n"
     ]
    }
   ],
   "source": [
    "# {1: 1, 2:8, 3: 27, ... 10: 1000}\n",
    "\n",
    "result = {}\n",
    "numbers = range(1,11)\n",
    "\n",
    "for number in numbers:\n",
    "    result[number] = number ** 3\n",
    "\n",
    "print(result)"
   ]
  },
  {
   "cell_type": "code",
   "execution_count": 45,
   "id": "e6ec3a56",
   "metadata": {},
   "outputs": [
    {
     "name": "stdout",
     "output_type": "stream",
     "text": [
      "{1: 1, 2: 8, 3: 27, 4: 64, 5: 125, 6: 216, 7: 343, 8: 512, 9: 729, 10: 1000}\n"
     ]
    }
   ],
   "source": [
    "result = {number: number ** 3 for number in range(1,11)}\n",
    "\n",
    "print(result)"
   ]
  },
  {
   "cell_type": "code",
   "execution_count": 46,
   "id": "e04d1fd4",
   "metadata": {},
   "outputs": [],
   "source": [
    "dust = {\n",
    "    '서울': 50,\n",
    "    '인천': 100,\n",
    "    '수원': 30,\n",
    "    '부산': 0,\n",
    "}\n",
    "\n"
   ]
  },
  {
   "cell_type": "code",
   "execution_count": 49,
   "id": "2986deee",
   "metadata": {},
   "outputs": [
    {
     "name": "stdout",
     "output_type": "stream",
     "text": [
      "{'수원': 30, '부산': 0}\n"
     ]
    }
   ],
   "source": [
    "result = {}\n",
    "\n",
    "for key, value in dust.items():\n",
    "    #key, value = ('서울', 50)\n",
    "    #item = ('서울', 50)\n",
    "    if value <= 30:\n",
    "        result[key] = value\n",
    "print(result)\n"
   ]
  },
  {
   "cell_type": "code",
   "execution_count": 50,
   "id": "96e8857f",
   "metadata": {},
   "outputs": [
    {
     "name": "stdout",
     "output_type": "stream",
     "text": [
      "{'수원': 30, '부산': 0}\n"
     ]
    }
   ],
   "source": [
    "# comprehension버전\n",
    "result = {key: value for key, value in dust.items() if value <= 30}\n",
    "print(result)"
   ]
  },
  {
   "cell_type": "markdown",
   "id": "6c114619",
   "metadata": {},
   "source": [
    "### Set 메소드"
   ]
  },
  {
   "cell_type": "code",
   "execution_count": 52,
   "id": "e75fe224",
   "metadata": {},
   "outputs": [],
   "source": [
    "fruits = {'apple', 'banana', 'melon'}"
   ]
  },
  {
   "cell_type": "code",
   "execution_count": 53,
   "id": "1a93ba50",
   "metadata": {},
   "outputs": [
    {
     "name": "stdout",
     "output_type": "stream",
     "text": [
      "{'banana', 'apple', 'melon'}\n"
     ]
    }
   ],
   "source": [
    "print(fruits)"
   ]
  },
  {
   "cell_type": "code",
   "execution_count": null,
   "id": "ed230c80",
   "metadata": {},
   "outputs": [
    {
     "name": "stdout",
     "output_type": "stream",
     "text": [
      "{'banana', 'apple', 'watermelon', 'melon'}\n"
     ]
    }
   ],
   "source": [
    "### .add(): set에 새로운 값 추가\n",
    "fruits.add('watermelon')\n",
    "print(fruits)"
   ]
  },
  {
   "cell_type": "code",
   "execution_count": 57,
   "id": "cd91cc17",
   "metadata": {},
   "outputs": [
    {
     "name": "stdout",
     "output_type": "stream",
     "text": [
      "{'banana', 'apple', 'watermelon', 'grape', 'orange', 'melon'}\n"
     ]
    }
   ],
   "source": [
    "# .update(): 여러개의 데이터를 같이 넣음\n",
    "fruits.update({'orange', 'grape'})\n",
    "print(fruits)"
   ]
  },
  {
   "cell_type": "code",
   "execution_count": 58,
   "id": "a0f1f764",
   "metadata": {},
   "outputs": [
    {
     "name": "stdout",
     "output_type": "stream",
     "text": [
      "{'banana', 'watermelon', 'grape', 'orange', 'melon'}\n"
     ]
    }
   ],
   "source": [
    "### .remove(): set에서 데이터 삭제\n",
    "fruits.remove('apple')\n",
    "print(fruits)"
   ]
  },
  {
   "cell_type": "code",
   "execution_count": 62,
   "id": "2b00af11",
   "metadata": {},
   "outputs": [
    {
     "name": "stdout",
     "output_type": "stream",
     "text": [
      "{'melon'}\n"
     ]
    }
   ],
   "source": [
    "### .pop(): remove와 똑같이 지워지는 기능을 하나 랜덤으로 지워진다\n",
    "fruits.pop()\n",
    "print(fruits)"
   ]
  },
  {
   "cell_type": "markdown",
   "id": "99cf2008",
   "metadata": {},
   "source": [
    "## map, filter, zip\n",
    "**세 함수 모두 lazy연산이다**"
   ]
  },
  {
   "cell_type": "markdown",
   "id": "b81bf15d",
   "metadata": {},
   "source": [
    "### map\n",
    "- map(function, iterable)\n",
    "    - iterable => 시퀀스타입"
   ]
  },
  {
   "cell_type": "code",
   "execution_count": 68,
   "id": "d91f7cc7",
   "metadata": {},
   "outputs": [
    {
     "name": "stdout",
     "output_type": "stream",
     "text": [
      "['1', '2', '3', '4', '5', '6', '7', '8', '9', '10']\n",
      "<map object at 0x11485b0a0>\n",
      "['1', '2', '3', '4', '5', '6', '7', '8', '9', '10']\n"
     ]
    }
   ],
   "source": [
    "numbers = list(range(1,11))\n",
    "# => 숫자 10개가 담겨있는 리스트를 일괄적으로 모든 값을 str형태로 수정\n",
    "\n",
    "# 방법 1.\n",
    "result = []\n",
    "\n",
    "for number in numbers:\n",
    "    result.append(str(number))\n",
    "\n",
    "print(result)\n",
    "\n",
    "\n",
    "# 방법 2.\n",
    "result = map(str, numbers)\n",
    "print(result) ## map이라는 함수를 실행 한 결과가 시각적으로 바로 보이지 않고 메모리에만 저장이 된다 -> lazy한 연산을 한다(=사용자가 필요롤 할때가 되서야 계산을 진행한다)\n",
    "print(list(result) ) ### list로 변환을 하면 map 함수가 적용된 계산값이 보여진다"
   ]
  },
  {
   "cell_type": "code",
   "execution_count": 69,
   "id": "aeb7dcc8",
   "metadata": {},
   "outputs": [
    {
     "name": "stdout",
     "output_type": "stream",
     "text": [
      "[1, 8, 27, 64, 125]\n"
     ]
    }
   ],
   "source": [
    "numbers = list(range(1,6))\n",
    "# => [1, 8, 27, 64, 125]\n",
    "result = []\n",
    "for number in  numbers:\n",
    "    result.append(number  ** 3)\n",
    "\n",
    "print(result)"
   ]
  },
  {
   "cell_type": "code",
   "execution_count": 70,
   "id": "d9494da5",
   "metadata": {},
   "outputs": [],
   "source": [
    "def cube(x):\n",
    "    return x ** 3"
   ]
  },
  {
   "cell_type": "code",
   "execution_count": 71,
   "id": "d6ca4b78",
   "metadata": {},
   "outputs": [
    {
     "name": "stdout",
     "output_type": "stream",
     "text": [
      "<map object at 0x11039d180>\n",
      "[1, 8, 27, 64, 125]\n"
     ]
    }
   ],
   "source": [
    "result = map(cube, numbers)\n",
    "print(result)\n",
    "print(list(result))"
   ]
  },
  {
   "cell_type": "code",
   "execution_count": 74,
   "id": "e1b617bb",
   "metadata": {},
   "outputs": [
    {
     "name": "stdout",
     "output_type": "stream",
     "text": [
      "[1, 2, 3, 4, 5, 6, 7, 8, 9]\n"
     ]
    }
   ],
   "source": [
    "# 예시문제\n",
    "test_input = '1 2 3 4 5 6 7 8 9'\n",
    "\n",
    "#1. 띄어쓰기를 기준으로 나눈다\n",
    "test_input.split()\n",
    "\n",
    "#2. 각 글자를 숫자로 바꾼다\n",
    "result = list(map(int, test_input.split()))\n",
    "\n",
    "print(result)\n"
   ]
  },
  {
   "cell_type": "markdown",
   "id": "4e68d82f",
   "metadata": {},
   "source": [
    "### filter\n",
    "- filter(function, iterable)\n",
    "- True인것들만 골라낸다"
   ]
  },
  {
   "cell_type": "code",
   "execution_count": 75,
   "id": "eba2b617",
   "metadata": {},
   "outputs": [],
   "source": [
    "\n",
    "def is_odd(x):\n",
    "    return x % 2"
   ]
  },
  {
   "cell_type": "code",
   "execution_count": 81,
   "id": "59f1ab66",
   "metadata": {},
   "outputs": [
    {
     "name": "stdout",
     "output_type": "stream",
     "text": [
      "[1, 3, 5, 7, 9]\n"
     ]
    }
   ],
   "source": [
    "numbers = list(range(1,10))\n",
    "\n",
    "result = []\n",
    "for number in numbers:\n",
    "    if number % 2 == 1:\n",
    "        result.append(number)\n",
    "\n",
    "print(result)"
   ]
  },
  {
   "cell_type": "code",
   "execution_count": 84,
   "id": "e5e2f380",
   "metadata": {},
   "outputs": [
    {
     "name": "stdout",
     "output_type": "stream",
     "text": [
      "<filter object at 0x11489f340>\n",
      "[1, 3, 5, 7, 9]\n"
     ]
    }
   ],
   "source": [
    "numbers = list(range(1,10))\n",
    "\n",
    "\n",
    "result = filter(is_odd, numbers)\n",
    "print(result)\n",
    "print(list(result))"
   ]
  },
  {
   "cell_type": "markdown",
   "id": "c9c2b260",
   "metadata": {},
   "source": [
    "### zip"
   ]
  },
  {
   "cell_type": "code",
   "execution_count": 89,
   "id": "53bec1b6",
   "metadata": {},
   "outputs": [
    {
     "name": "stdout",
     "output_type": "stream",
     "text": [
      "<zip object at 0x114cdd5c0>\n",
      "[(1, 100, 4000), (2, 200, 5000), (3, 300, 600)]\n"
     ]
    }
   ],
   "source": [
    "a = [1,2,3]\n",
    "b = [100, 200, 300]\n",
    "c = [4000,5000,600]\n",
    "result = zip(a,b,c)\n",
    "print(result)\n",
    "print(list(result)) # 같은 위치에 있는 Index 데이터들끼리 tuple형태로 묶어준다, / 단 길이가 같아야 하면 더 긴 데이터는 묶일 데이터가 없으므로 떨어진다"
   ]
  },
  {
   "cell_type": "code",
   "execution_count": null,
   "id": "a6d7b0ef",
   "metadata": {},
   "outputs": [],
   "source": []
  }
 ],
 "metadata": {
  "kernelspec": {
   "display_name": "3.13.2",
   "language": "python",
   "name": "python3"
  },
  "language_info": {
   "codemirror_mode": {
    "name": "ipython",
    "version": 3
   },
   "file_extension": ".py",
   "mimetype": "text/x-python",
   "name": "python",
   "nbconvert_exporter": "python",
   "pygments_lexer": "ipython3",
   "version": "3.13.2"
  }
 },
 "nbformat": 4,
 "nbformat_minor": 5
}
