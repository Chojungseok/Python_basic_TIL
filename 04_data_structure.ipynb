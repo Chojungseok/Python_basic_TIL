{
 "cells": [
  {
   "cell_type": "markdown",
   "id": "5a8bdeb5-f236-497a-a810-251c2bc878a6",
   "metadata": {},
   "source": [
    "# 자료구조 \n",
    "> 여러가지 자료구조가 가지고있는 매소드(함수) 알아보기"
   ]
  },
  {
   "cell_type": "code",
   "execution_count": 1,
   "id": "20dcfb50-319f-41c3-8969-b65967048fae",
   "metadata": {},
   "outputs": [
    {
     "name": "stdout",
     "output_type": "stream",
     "text": [
      "['__add__', '__class__', '__contains__', '__delattr__', '__dir__', '__doc__', '__eq__', '__format__', '__ge__', '__getattribute__', '__getitem__', '__getnewargs__', '__getstate__', '__gt__', '__hash__', '__init__', '__init_subclass__', '__iter__', '__le__', '__len__', '__lt__', '__mod__', '__mul__', '__ne__', '__new__', '__reduce__', '__reduce_ex__', '__repr__', '__rmod__', '__rmul__', '__setattr__', '__sizeof__', '__str__', '__subclasshook__', 'capitalize', 'casefold', 'center', 'count', 'encode', 'endswith', 'expandtabs', 'find', 'format', 'format_map', 'index', 'isalnum', 'isalpha', 'isascii', 'isdecimal', 'isdigit', 'isidentifier', 'islower', 'isnumeric', 'isprintable', 'isspace', 'istitle', 'isupper', 'join', 'ljust', 'lower', 'lstrip', 'maketrans', 'partition', 'removeprefix', 'removesuffix', 'replace', 'rfind', 'rindex', 'rjust', 'rpartition', 'rsplit', 'rstrip', 'split', 'splitlines', 'startswith', 'strip', 'swapcase', 'title', 'translate', 'upper', 'zfill']\n"
     ]
    }
   ],
   "source": [
    "print(dir('hello'))\n",
    "### hello가 갖고 있는 기능들을 출력"
   ]
  },
  {
   "cell_type": "markdown",
   "id": "d4ce2f8d-b86b-478b-a5d1-16fb362e268d",
   "metadata": {},
   "source": [
    "### 문자열 매소드"
   ]
  },
  {
   "cell_type": "code",
   "execution_count": 8,
   "id": "0d8afb0b-eabb-4fff-a8c7-f99fe5e35c48",
   "metadata": {},
   "outputs": [],
   "source": [
    "a = 'hello my name is cho'"
   ]
  },
  {
   "cell_type": "code",
   "execution_count": 9,
   "id": "05c0b2c9-57df-48e8-bc28-4b7ede604002",
   "metadata": {},
   "outputs": [
    {
     "name": "stdout",
     "output_type": "stream",
     "text": [
      "hello my name is cho\n"
     ]
    }
   ],
   "source": [
    "print(a)"
   ]
  },
  {
   "cell_type": "code",
   "execution_count": 11,
   "id": "50871ee2-4b6b-40f9-8a9f-205c59200002",
   "metadata": {},
   "outputs": [
    {
     "ename": "TypeError",
     "evalue": "'str' object does not support item assignment",
     "output_type": "error",
     "traceback": [
      "\u001b[0;31m---------------------------------------------------------------------------\u001b[0m",
      "\u001b[0;31mTypeError\u001b[0m                                 Traceback (most recent call last)",
      "Cell \u001b[0;32mIn[11], line 1\u001b[0m\n\u001b[0;32m----> 1\u001b[0m \u001b[43ma\u001b[49m\u001b[43m[\u001b[49m\u001b[38;5;241;43m0\u001b[39;49m\u001b[43m]\u001b[49m \u001b[38;5;241m=\u001b[39m \u001b[38;5;124m'\u001b[39m\u001b[38;5;124mH\u001b[39m\u001b[38;5;124m'\u001b[39m\n\u001b[1;32m      2\u001b[0m \u001b[38;5;66;03m## string 자료구조는 Immutable하기 때문에 수정안됨\u001b[39;00m\n",
      "\u001b[0;31mTypeError\u001b[0m: 'str' object does not support item assignment"
     ]
    }
   ],
   "source": [
    "a[0] = 'H'\n",
    "## string 자료구조는 Immutable하기 때문에 수정안됨"
   ]
  },
  {
   "cell_type": "code",
   "execution_count": 20,
   "id": "988a6a52-ba61-4108-9ff0-3252204f4453",
   "metadata": {},
   "outputs": [
    {
     "data": {
      "text/plain": [
       "'Hello my name is cho'"
      ]
     },
     "execution_count": 20,
     "metadata": {},
     "output_type": "execute_result"
    }
   ],
   "source": [
    "a.capitalize()\n",
    "### a가 가지고 있는 함수(.~~~)를 실행시켜 주세요\n",
    "### capitalize() : 첫 글자만 대문자로 바꿔준다\n",
    "### data가 수정이 되는것이 아니라 단순 결과 출력값만 바뀌어 나오고 값은 원래 상태로 저장되어있다. 원본의 데이터 변경 X"
   ]
  },
  {
   "cell_type": "code",
   "execution_count": 21,
   "id": "3cad2fae-dcf4-4c2e-9886-34861427cd69",
   "metadata": {},
   "outputs": [
    {
     "data": {
      "text/plain": [
       "'hello my name is cho'"
      ]
     },
     "execution_count": 21,
     "metadata": {},
     "output_type": "execute_result"
    }
   ],
   "source": [
    "a"
   ]
  },
  {
   "cell_type": "code",
   "execution_count": 24,
   "id": "6076aadd-eed0-4dd0-a658-060ef8456904",
   "metadata": {},
   "outputs": [
    {
     "data": {
      "text/plain": [
       "'Hello My Name Is Cho'"
      ]
     },
     "execution_count": 24,
     "metadata": {},
     "output_type": "execute_result"
    }
   ],
   "source": [
    "a.title()\n",
    "### 각 단어의 첫 알파벳을 모두 대문자로 바꿔준다"
   ]
  },
  {
   "cell_type": "code",
   "execution_count": 28,
   "id": "48563b14-d513-4a25-8528-676f8f6923e5",
   "metadata": {},
   "outputs": [
    {
     "data": {
      "text/plain": [
       "'hello my name is cho'"
      ]
     },
     "execution_count": 28,
     "metadata": {},
     "output_type": "execute_result"
    }
   ],
   "source": [
    "a.lower()\n",
    "### 모든 글자를 소문자로 만들어준다"
   ]
  },
  {
   "cell_type": "code",
   "execution_count": 29,
   "id": "65397243-5b8a-4eb2-a91c-3314d9c7bd2c",
   "metadata": {},
   "outputs": [
    {
     "data": {
      "text/plain": [
       "'HELLO MY NAME IS CHO'"
      ]
     },
     "execution_count": 29,
     "metadata": {},
     "output_type": "execute_result"
    }
   ],
   "source": [
    "a.upper()\n",
    "### 모든 글자를 대문자로 만들어준다"
   ]
  },
  {
   "cell_type": "code",
   "execution_count": 30,
   "id": "615a56d3-9ce2-4bde-a885-8e20b23a5ab8",
   "metadata": {},
   "outputs": [
    {
     "data": {
      "text/plain": [
       "'my!name!is'"
      ]
     },
     "execution_count": 30,
     "metadata": {},
     "output_type": "execute_result"
    }
   ],
   "source": [
    "my_list = ['my', 'name', 'is']\n",
    "\n",
    "'!'.join(my_list)\n",
    "### join(): 합치는 함수"
   ]
  },
  {
   "cell_type": "code",
   "execution_count": 32,
   "id": "bdaf17b8-9dd2-4b10-a815-8667a7dba881",
   "metadata": {},
   "outputs": [
    {
     "data": {
      "text/plain": [
       "'배?고?프?다'"
      ]
     },
     "execution_count": 32,
     "metadata": {},
     "output_type": "execute_result"
    }
   ],
   "source": [
    "'?'.join('배고프다')"
   ]
  },
  {
   "cell_type": "code",
   "execution_count": 33,
   "id": "ecbcfb08-ce9a-4038-ab34-109beefab884",
   "metadata": {},
   "outputs": [
    {
     "name": "stdout",
     "output_type": "stream",
     "text": [
      "                hello                \n",
      "\n"
     ]
    }
   ],
   "source": [
    "a = '         \\t       hello                \\n'\n",
    "print(a)"
   ]
  },
  {
   "cell_type": "code",
   "execution_count": 37,
   "id": "e0ebe5cd-d088-4ce5-aa78-ef595e98a2ee",
   "metadata": {},
   "outputs": [
    {
     "data": {
      "text/plain": [
       "38"
      ]
     },
     "execution_count": 37,
     "metadata": {},
     "output_type": "execute_result"
    }
   ],
   "source": [
    "len(a)\n",
    "### 띄어쓰기 1개도 다 글자로 인식"
   ]
  },
  {
   "cell_type": "code",
   "execution_count": 38,
   "id": "77618a4f-1030-4fa3-8b77-00d20c92a0c8",
   "metadata": {},
   "outputs": [
    {
     "data": {
      "text/plain": [
       "'hello'"
      ]
     },
     "execution_count": 38,
     "metadata": {},
     "output_type": "execute_result"
    }
   ],
   "source": [
    "a.strip()\n",
    "### 띄어쓰기, 줄바꿈, 들여쓰기 모두 무시하고 글자만 보여줌"
   ]
  },
  {
   "cell_type": "code",
   "execution_count": 40,
   "id": "6a08bc67-6825-4072-8662-fc48a2ea10ef",
   "metadata": {},
   "outputs": [
    {
     "data": {
      "text/plain": [
       "'Hello????????'"
      ]
     },
     "execution_count": 40,
     "metadata": {},
     "output_type": "execute_result"
    }
   ],
   "source": [
    "a = '!!!!!Hello????????'\n",
    "a.strip('!')\n",
    "###()안에 들어온 문자를 다 지운다 / 빈칸일 경우 띄어쓰기만 지운다 strip(char = ' ')"
   ]
  },
  {
   "cell_type": "code",
   "execution_count": 43,
   "id": "320b386d-c0e6-4c08-82d4-72791ad73399",
   "metadata": {},
   "outputs": [
    {
     "data": {
      "text/plain": [
       "'hello----------'"
      ]
     },
     "execution_count": 43,
     "metadata": {},
     "output_type": "execute_result"
    }
   ],
   "source": [
    "a = '---------hello----------'\n",
    "a.lstrip('-')\n",
    "### 글자 기준 왼쪽만 지운다 / rstrip() : 오른쪽만 지운다"
   ]
  },
  {
   "cell_type": "code",
   "execution_count": 47,
   "id": "6ebb63db-c351-4114-9e4c-76ce03f87243",
   "metadata": {},
   "outputs": [
    {
     "data": {
      "text/plain": [
       "'w!!!oooooooow'"
      ]
     },
     "execution_count": 47,
     "metadata": {},
     "output_type": "execute_result"
    }
   ],
   "source": [
    "a = 'wooooooooooow'\n",
    "a.replace('o', '!', 3)\n",
    "###replace(뭐를(대상), 뭐로(바꿀 값), 앞에서부터 몇번 할 것인가)"
   ]
  },
  {
   "cell_type": "code",
   "execution_count": 54,
   "id": "6b2a43ee-b61d-4917-aee2-09b44e8d4b3b",
   "metadata": {},
   "outputs": [
    {
     "data": {
      "text/plain": [
       "-1"
      ]
     },
     "execution_count": 54,
     "metadata": {},
     "output_type": "execute_result"
    }
   ],
   "source": [
    "a = 'apple'\n",
    "a.find('a')\n",
    "a.find('l')\n",
    "a.find('p') # 똑같은 값이 있다면 먼저 나온 값의 인덱스를 알려준다\n",
    "a.find('z') # 값이 없을 경우 -1을 출력한다\n",
    "### find(): 인덱스 번호를 출력해준다"
   ]
  },
  {
   "cell_type": "code",
   "execution_count": 56,
   "id": "54ba3e37-7d4c-4268-879e-bdd4d7b6abc6",
   "metadata": {},
   "outputs": [
    {
     "ename": "ValueError",
     "evalue": "substring not found",
     "output_type": "error",
     "traceback": [
      "\u001b[0;31m---------------------------------------------------------------------------\u001b[0m",
      "\u001b[0;31mValueError\u001b[0m                                Traceback (most recent call last)",
      "Cell \u001b[0;32mIn[56], line 4\u001b[0m\n\u001b[1;32m      2\u001b[0m a\u001b[38;5;241m.\u001b[39mindex(\u001b[38;5;124m'\u001b[39m\u001b[38;5;124ml\u001b[39m\u001b[38;5;124m'\u001b[39m)\n\u001b[1;32m      3\u001b[0m a\u001b[38;5;241m.\u001b[39mindex(\u001b[38;5;124m'\u001b[39m\u001b[38;5;124mp\u001b[39m\u001b[38;5;124m'\u001b[39m)\n\u001b[0;32m----> 4\u001b[0m \u001b[43ma\u001b[49m\u001b[38;5;241;43m.\u001b[39;49m\u001b[43mindex\u001b[49m\u001b[43m(\u001b[49m\u001b[38;5;124;43m'\u001b[39;49m\u001b[38;5;124;43mz\u001b[39;49m\u001b[38;5;124;43m'\u001b[39;49m\u001b[43m)\u001b[49m\n\u001b[1;32m      5\u001b[0m \u001b[38;5;66;03m### index()는 find()와 같은 기능을 하지만 없는 데이터를 찾으려고 하면 error가 난다\u001b[39;00m\n",
      "\u001b[0;31mValueError\u001b[0m: substring not found"
     ]
    }
   ],
   "source": [
    "a.index('a')\n",
    "a.index('l')\n",
    "a.index('p')\n",
    "a.index('z')\n",
    "### index()는 find()와 같은 기능을 하지만 없는 데이터를 찾으려고 하면 error가 난다"
   ]
  },
  {
   "cell_type": "code",
   "execution_count": 58,
   "id": "66b712b2-a685-45c7-a473-ed7fd04af1bb",
   "metadata": {},
   "outputs": [
    {
     "data": {
      "text/plain": [
       "['my', 'name', 'is', 'cho']"
      ]
     },
     "execution_count": 58,
     "metadata": {},
     "output_type": "execute_result"
    }
   ],
   "source": [
    "a = 'my name is cho'\n",
    "\n",
    "a.split()\n",
    "### split(): 데이터를 띄어쓰기를 기준으로 자른다음 결과를 리스트로 만들어서 반환시켜준다"
   ]
  },
  {
   "cell_type": "code",
   "execution_count": 60,
   "id": "c000bec4-34af-4d6f-a14f-3ea44d29ea48",
   "metadata": {},
   "outputs": [
    {
     "data": {
      "text/plain": [
       "['my', 'name', 'is', 'cho']"
      ]
     },
     "execution_count": 60,
     "metadata": {},
     "output_type": "execute_result"
    }
   ],
   "source": [
    "a = 'my!name!is!cho'\n",
    "a.split('!')\n",
    "### ()안에 자르고자 하는 기준을 넣어주면 된다"
   ]
  },
  {
   "cell_type": "code",
   "execution_count": 62,
   "id": "166185df-3707-4272-87bb-15c1d941c169",
   "metadata": {},
   "outputs": [
    {
     "data": {
      "text/plain": [
       "6"
      ]
     },
     "execution_count": 62,
     "metadata": {},
     "output_type": "execute_result"
    }
   ],
   "source": [
    "a = 'woooooow'\n",
    "a.count('o')\n",
    "### count(): 몇개가 있는지 찾아줌/ ()안에는 찾고자 하는 인자를 입력해주면된다"
   ]
  },
  {
   "cell_type": "code",
   "execution_count": null,
   "id": "a0a24d6d-cfe3-49cc-bedb-edd2807d2ffa",
   "metadata": {},
   "outputs": [],
   "source": []
  }
 ],
 "metadata": {
  "kernelspec": {
   "display_name": "Python 3 (ipykernel)",
   "language": "python",
   "name": "python3"
  },
  "language_info": {
   "codemirror_mode": {
    "name": "ipython",
    "version": 3
   },
   "file_extension": ".py",
   "mimetype": "text/x-python",
   "name": "python",
   "nbconvert_exporter": "python",
   "pygments_lexer": "ipython3",
   "version": "3.13.2"
  }
 },
 "nbformat": 4,
 "nbformat_minor": 5
}
